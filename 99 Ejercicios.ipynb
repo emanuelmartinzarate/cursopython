{
 "cells": [
  {
   "cell_type": "markdown",
   "id": "frequent-anatomy",
   "metadata": {},
   "source": [
    "# Ejercicios\n",
    "\n",
    "1. Dado un número entero, imprimir la cantidad de dígitos.\n",
    "2. Dada una cadena, imprimir la primer palabra (la cadena sólo contiene letras y espacios)\n",
    "3. Dada una lista y un elemento, imprimir la lista a partir de ese elemento. Por ejemplo, si la lista es [4, 8, 3, 2, 7, 5] y el elemento es 3, imprimir [3, 2, 7, 5]\n",
    "4. Dada una cadena, indicar si están todos sus caracteres en mayúsculas (la cadena tiene caracteres alfanuméricos, numéricos y espacios.\n",
    "5. ¿Existe un método \"opuesto\" a join? Buscarlo y dar un ejemplo de uso.\n",
    "6. Dada una lista, imprimirla al revés.\n",
    "7. Dada una lista, el primer elemento debe pasar al final. Si la lista está vacía o tiene un único elemento, debe quedar igual.\n",
    "8. Dado un número entero, indicar cuál de sus dígitos es el mayor.  \n",
    "Hasta aquí para el jueves 11/2\n",
    "---\n",
    "\n",
    "9. Dada una palabra, imprimir \"Longitud válida\" si tiene 6 o más caracteres.\n",
    "10. Dado un número entero, imprimir la cantidad de ceros que hay al final del número.\n",
    "\n",
    "\n",
    "## Funciones\n",
    "1. Dada una cadena, devolver una lista dividiendo la cadena en subcadenas de dos caracteres. Si tiene un nro impar de caracteres, completar el último par con guión bajo. \"Un ejemplar\"->[\"Un\", \" e\", \"je\", \"mp\",\"la\", \"r_\"] \n",
    "2. Dada una cadena, devolver la cantidad de . que tiene al comienzo la cadena. \".....casa\"->5.\n",
    "3. Dado un conjunto de números, y un número aparte, devolver cuál es el número del conjunto más cercano al dado. {4,6,12,15,22}, 9->6 (podría haber devuelto 12 también)\n",
    "4. Dada una cadena, devolverla en formato \"correcto\": comenzando con mayúsculas y finalizando con un . \"esto es ejemplo\"->\"Esto es ejemplo.\"\n",
    "5. Dado una cadena, devolver la cadena con cada palabra invertida. La cadena tiene sólo caracteres alfanuméricos y espacios. \"Esto es ejemplo\"->\"otsE se olpmeje\"\n",
    "6. Dada una cadena, devolver la cantidad de dígitos que hay en la cadena. \"Acá tenemos 2 dígitos\"->1\n",
    "7. Dado un número M y varios diccionarios de la forma {\"prod\": \"manzana\", \"pre\":5.5}, devolver una lista con los M productos más caros. 2, {\"prod\":\"pan\", \"pre\": 100}, {\"prod\":\"arroz\", \"pre\": 50}, {\"prod\":\"leche\", \"pre\": 90}, {\"prod\":\"carne\", \"pre\": 300}->[{\"prod\":\"pan\", \"pre\": 100}, {\"prod\":\"carne\", \"pre\": 300}]\n",
    "8. Dadas una cadena C1, y una cadena C2, devolver la posición de la SEGUNDA vez que aparece C2 dentro de C1. Si no aparece o lo hace una sola vez, devolver None. \"Esto es una estatua\", \"st\"->13\n",
    "\n",
    "## Archivos de texto\n",
    "1. Desarrollar un programa que saque las líneas en blanco repetidas del archivo quijote.txt.\n",
    "2. Desarrollar un programa que escriba cada línea de quijote.txt invertida.\n",
    "3. Dado el nombre de un archivo y una palabra, devolver cuántas veces aparece la palabra en el archivo (como palabra, no como cadena)\n",
    "\n",
    "## Simulador\n",
    "1. Realizar un controlador, que al llegar el robot a una pared, empiece a moverse hacia izquierda o derecha recorriendo las paredes del MundoVacio, en forma continua y circular.\n",
    "2. Idem pero en MundoConParedes. Es decir, programar un robot para que recorra el laberinto siguiendo las paredes con uno de sus costados.\n",
    "3. Extender la clase MiRobot con los 8 sensores de distancia (de ps0 a ps7). El acceso a ellos es privado.\n",
    "4. Crear los métodos distanciaIzquierda(), distanciaDerecha() y distanciaFrente() que me devuelve la distancia del robot con algún objeto, UTILIZANDO ALGUNA FORMULA QUE CONSIDERE LOS SENSORES PERTINENTES. \n"
   ]
  },
  {
   "cell_type": "code",
   "execution_count": 60,
   "id": "constitutional-figure",
   "metadata": {},
   "outputs": [
    {
     "name": "stdout",
     "output_type": "stream",
     "text": [
      "4\n"
     ]
    }
   ],
   "source": [
    "def buscarCercano(numeros,valor):\n",
    "    cercano = 0\n",
    "    diff = -1\n",
    "    for v in numeros:\n",
    "        if diff == -1 or abs(v - valor) < diff:\n",
    "            diff = abs(v - valor)\n",
    "            cercano = v\n",
    "    return cercano\n",
    "\n",
    "lista = {4,6,12,15,22}\n",
    "print(buscarCercano(lista,3))\n",
    "\n"
   ]
  },
  {
   "cell_type": "code",
   "execution_count": 64,
   "id": "related-richards",
   "metadata": {},
   "outputs": [
    {
     "name": "stdout",
     "output_type": "stream",
     "text": [
      "22\n"
     ]
    }
   ],
   "source": [
    "def fun3(nume, valor):\n",
    "\n",
    "    lista=list(nume)\n",
    "    aux=[abs(ele-valor) for ele in lista]\n",
    "    return(lista[aux.index(min(aux))])\n",
    "\n",
    "print(fun3({4,6,12,15,22}, 38))"
   ]
  },
  {
   "cell_type": "code",
   "execution_count": null,
   "id": "sitting-injury",
   "metadata": {},
   "outputs": [],
   "source": []
  }
 ],
 "metadata": {
  "kernelspec": {
   "display_name": "Python 3",
   "language": "python",
   "name": "python3"
  },
  "language_info": {
   "codemirror_mode": {
    "name": "ipython",
    "version": 3
   },
   "file_extension": ".py",
   "mimetype": "text/x-python",
   "name": "python",
   "nbconvert_exporter": "python",
   "pygments_lexer": "ipython3",
   "version": "3.7.7"
  }
 },
 "nbformat": 4,
 "nbformat_minor": 5
}