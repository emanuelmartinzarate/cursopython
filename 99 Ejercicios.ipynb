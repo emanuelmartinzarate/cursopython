{
 "cells": [
  {
   "cell_type": "markdown",
   "id": "express-frontier",
   "metadata": {},
   "source": [
    "# Ejercicios\n",
    "\n",
    "1. Dado un número entero, imprimir la cantidad de dígitos.\n",
    "2. Dada una palabra, imprimir \"Longitud válida\" si tiene 6 o más caracteres.\n",
    "3. Dada una cadena, imprimir la primer palabra (la cadena sólo contiene letras y espacios)\n",
    "4. Dado un número entero, imprimir la cantidad de ceros que hay al final del número.\n",
    "5. Dada una lista, imprimirla al revés.\n",
    "6. Dada una lista y un elemento, imprimir la lista a partir de ese elemento. Por ejemplo, si la lista es [4, 8, 3, 2, 7, 5] y el elemento es 3, imprimir [3, 2, 7, 5]\n",
    "7. Dada una cadena, indicar si están todos sus caracteres en mayúsculas (la cadena tiene caracteres alfanuméricos, numéricos y espacios.\n",
    "8. Dada una lista, el primer elemento debe pasar al final. Si la lista está vacía o tiene un único elemento, debe quedar igual.\n",
    "9. Dado un número entero, indicar cuál de sus dígitos es el mayor.\n",
    "\n",
    "## Funciones\n",
    "10. Dada una cadena, devolver una lista dividiendo la cadena en subcadenas de dos caracteres. Si tiene un nro impar de caracteres, completar el último par con guión bajo.\n",
    "11. Dada una cadena, devolver la cantidad de . que tiene al comienzo la cadena. Por ej: \".....casa\" debe imprimir 5.\n",
    "12. Dado un conjunto de números, y un número aparte, devolver cuál es el número del conjunto más cercano al dado.\n",
    "13. Dada una cadena, devolverla en formato \"correcto\": comenzando con mayúsculas y finalizando con un .\n",
    "\n",
    "## Archivos de texto\n",
    "14. Desarrollar un programa que saque las líneas en blanco repetidas del archivo quijote.txt.\n",
    "15. Desarrollar un programa que escriba cada línea de quijote.txt invertida.\n",
    "16. Dado el nombre de un archivo y una palabra, devolver cuántas veces aparece la palabra en el archivo (como palabra, no como cadena)\n"
   ]
  },
  {
   "cell_type": "code",
   "execution_count": 5,
   "id": "automotive-method",
   "metadata": {},
   "outputs": [],
   "source": []
  },
  {
   "cell_type": "code",
   "execution_count": null,
   "id": "killing-maine",
   "metadata": {},
   "outputs": [],
   "source": []
  }
 ],
 "metadata": {
  "kernelspec": {
   "display_name": "Python 3",
   "language": "python",
   "name": "python3"
  },
  "language_info": {
   "codemirror_mode": {
    "name": "ipython",
    "version": 3
   },
   "file_extension": ".py",
   "mimetype": "text/x-python",
   "name": "python",
   "nbconvert_exporter": "python",
   "pygments_lexer": "ipython3",
   "version": "3.7.7"
  }
 },
 "nbformat": 4,
 "nbformat_minor": 5
}
