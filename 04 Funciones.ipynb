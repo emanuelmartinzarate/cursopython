{
 "cells": [
  {
   "cell_type": "markdown",
   "id": "unauthorized-tradition",
   "metadata": {},
   "source": [
    "# Funciones\n",
    "\n",
    "**def *nombre*(*par1*, *par2*,...):  \n",
    "&emsp;*bloque de código*  \n",
    "&emsp;*con return devolvemos uno o más valores***"
   ]
  },
  {
   "cell_type": "code",
   "execution_count": null,
   "id": "confidential-jacksonville",
   "metadata": {},
   "outputs": [],
   "source": [
    "def fib(num):\n",
    "    \"\"\" Esto es un docstring, para documentar funciones\"\"\"\n",
    "    v1, v2=0,1\n",
    "    while v1<num:\n",
    "        print(v1, end=\", \")\n",
    "        v1, v2=v2, v1+v2\n",
    "    print()\n",
    "\n",
    "fib(100)"
   ]
  },
  {
   "cell_type": "markdown",
   "id": "military-princess",
   "metadata": {},
   "source": [
    "Al ejecutarse una función se genera una nueva tabla de símbolos para sus variables locales. Por defecto, todas las asignaciones de variables en una función se almacenan en la tabla local, y las referencias se buscan primero en esa tabla, luego en la tabla de funciones internas, luego en la tabla de símbolos globales y luego en la tabla de palabras reservadas."
   ]
  },
  {
   "cell_type": "code",
   "execution_count": null,
   "id": "supreme-letter",
   "metadata": {},
   "outputs": [],
   "source": [
    "def foo():\n",
    "    print(x) #Esto imprime la de la tabla principal?\n",
    "    x=\"X asignada en foo\"\n",
    "    y=\"Y asignada en foo\"\n",
    "    print(x) #Qué pasa si lo cambio por y?\n",
    "\n",
    "x=\"X asignada en principal\"\n",
    "print(x)\n",
    "foo()\n",
    "print(x) #Qué pasa si lo cambio por y?"
   ]
  },
  {
   "cell_type": "markdown",
   "id": "surrounded-eight",
   "metadata": {},
   "source": [
    "Los argumentos inmutables se pasan por valor. Los mutables por referencia."
   ]
  },
  {
   "cell_type": "code",
   "execution_count": null,
   "id": "convertible-document",
   "metadata": {},
   "outputs": [],
   "source": [
    "def foo(par1):\n",
    "    par1+=10\n",
    "    print(par1)\n",
    "\n",
    "x=5\n",
    "foo(x)\n",
    "print(x)"
   ]
  },
  {
   "cell_type": "code",
   "execution_count": null,
   "id": "immune-wisconsin",
   "metadata": {},
   "outputs": [],
   "source": [
    "def agregar(lista, elemento):\n",
    "    if elemento not in lista: lista.append(elemento)\n",
    "        \n",
    "l=[12, 13, 22]\n",
    "print(l)\n",
    "agregar(l, 33)\n",
    "print(l)\n",
    "agregar(l, 13)\n",
    "print(l)"
   ]
  },
  {
   "cell_type": "code",
   "execution_count": null,
   "id": "amazing-marking",
   "metadata": {},
   "outputs": [],
   "source": [
    "def modificartup(tupla):\n",
    "    tupla=(1,1,1)\n",
    "    print(tupla)\n",
    "        \n",
    "t=(12, 13, 22)\n",
    "print(t)\n",
    "modificartup(t)\n",
    "print(t)\n"
   ]
  },
  {
   "cell_type": "markdown",
   "id": "scenic-sterling",
   "metadata": {},
   "source": [
    "Las funciones SIEMPRE devuelven un valor."
   ]
  },
  {
   "cell_type": "code",
   "execution_count": null,
   "id": "stock-steam",
   "metadata": {},
   "outputs": [],
   "source": [
    "def foo(par1):\n",
    "    par1+=10\n",
    "    print(par1)\n",
    "print(foo(5))"
   ]
  },
  {
   "cell_type": "code",
   "execution_count": null,
   "id": "modern-swimming",
   "metadata": {},
   "outputs": [],
   "source": [
    "def devuelveValor(elemento, potencia):\n",
    "    return elemento**potencia, elemento%potencia\n",
    "\n",
    "valor1, valor2=devuelveValor(10,5)\n",
    "print(valor1)\n",
    "print(valor2)"
   ]
  },
  {
   "cell_type": "markdown",
   "id": "digital-serve",
   "metadata": {},
   "source": [
    "Podemos definir valor de argumentos por defecto"
   ]
  },
  {
   "cell_type": "code",
   "execution_count": null,
   "id": "terminal-peripheral",
   "metadata": {},
   "outputs": [],
   "source": [
    "def apellidoComaNombre(nombre=\"Menganito\", apellido=\"Mengano\"):\n",
    "    return(apellido+\", \"+nombre)\n",
    "\n",
    "print(apellidoComaNombre(\"Gonzalo\", \"Zabala\")) # Zabala, Gonzalo\n",
    "print(apellidoComaNombre(\"Gonzalo\")) # Mengano, Gonzalo\n",
    "#se puede pasar argumentos con el nombre del parámetro (si se les definió valor por defecto)\n",
    "print(apellidoComaNombre(apellido=\"Maradona\", nombre=\"Diego\")) #Maradona, Diego\n",
    "print(apellidoComaNombre(apellido=\"Zabala\")) #Zabala, Menganito\n",
    "print(apellidoComaNombre()) #Mengano, Menganito"
   ]
  },
  {
   "cell_type": "markdown",
   "id": "chemical-dictionary",
   "metadata": {},
   "source": [
    "Si queremos pasar un número arbitrario de argumentos, agregando un \\* al comienzo del parámetro, indicamos que recibirá una tupla."
   ]
  },
  {
   "cell_type": "code",
   "execution_count": null,
   "id": "insured-justice",
   "metadata": {},
   "outputs": [],
   "source": [
    "def foo(*pars):\n",
    "    for i in pars:\n",
    "        print(i)\n",
    "    print(\"-----\")\n",
    "        \n",
    "foo(5,4,2)\n",
    "foo(9)\n",
    "foo(\"arga\", \"argb\", 10, True)\n",
    "foo()"
   ]
  },
  {
   "cell_type": "markdown",
   "id": "primary-rugby",
   "metadata": {},
   "source": [
    "Para pasar un diccionario, agregamos \\*\\* delante del parámetro."
   ]
  },
  {
   "cell_type": "code",
   "execution_count": null,
   "id": "improved-medication",
   "metadata": {},
   "outputs": [],
   "source": [
    "def foo(**dict):\n",
    "    for key in dict:\n",
    "        print(key, \": \", dict[key])\n",
    "\n",
    "foo(apellido=\"Zabala\", nombre=\"Gonzalo\", edad=50)\n",
    "#foo(apellido=\"Zabala\", nombre=\"Gonzalo\", edad=50, nombre=\"Alan\")"
   ]
  },
  {
   "cell_type": "markdown",
   "id": "present-miller",
   "metadata": {},
   "source": [
    "¿Existen variables globales? Acoplamiento a full..."
   ]
  },
  {
   "cell_type": "code",
   "execution_count": null,
   "id": "superb-employee",
   "metadata": {},
   "outputs": [],
   "source": [
    "def sumar(valor):\n",
    "    global contador #Qué pasa si lo comento?\n",
    "    contador=valor #Contador existe o no aquí?\n",
    "    print(contador)\n",
    "    \n",
    "contador=10\n",
    "print(contador)\n",
    "sumar(15)\n",
    "print(contador)"
   ]
  },
  {
   "cell_type": "markdown",
   "id": "liable-kazakhstan",
   "metadata": {},
   "source": [
    "**NO USAR VARIABLES GLOBALES!!!**"
   ]
  },
  {
   "cell_type": "code",
   "execution_count": null,
   "id": "numerous-popularity",
   "metadata": {},
   "outputs": [],
   "source": []
  }
 ],
 "metadata": {
  "kernelspec": {
   "display_name": "Python 3",
   "language": "python",
   "name": "python3"
  },
  "language_info": {
   "codemirror_mode": {
    "name": "ipython",
    "version": 3
   },
   "file_extension": ".py",
   "mimetype": "text/x-python",
   "name": "python",
   "nbconvert_exporter": "python",
   "pygments_lexer": "ipython3",
   "version": "3.7.7-final"
  }
 },
 "nbformat": 4,
 "nbformat_minor": 5
}