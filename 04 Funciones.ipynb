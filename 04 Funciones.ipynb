{
 "cells": [
  {
   "cell_type": "markdown",
   "id": "applied-sewing",
   "metadata": {},
   "source": [
    "# Funciones\n",
    "\n",
    "**def *nombre*(*par1*, *par2*,...):  \n",
    "&emsp;*bloque de código*  \n",
    "&emsp;*con return devolvemos uno o más valores*  "
   ]
  },
  {
   "cell_type": "code",
   "execution_count": null,
   "id": "friendly-emerald",
   "metadata": {},
   "outputs": [],
   "source": [
    "def fib(num):\n",
    "    \"\"\" Esto es un docstring, para documentar funciones\"\"\"\n",
    "    v1, v2=0,1\n",
    "    while v1<num:\n",
    "        print(v1, end=\" \")\n",
    "        v1, v2=v2, v1+v2\n",
    "    print()\n",
    "\n",
    "fib(100)"
   ]
  },
  {
   "cell_type": "markdown",
   "id": "worth-wiring",
   "metadata": {},
   "source": [
    "Al ejecutarse una función se genera una nueva tabla de símbolos para sus variables locales. Por defecto, todas las asignaciones de variables en una función se almacenan en la tabla local, y las referencias se buscan primero en esa tabla, luego en la tabla de funciones internas, luego en la tabla de símbolos globales y luego en la tabla de palabras reservadas."
   ]
  },
  {
   "cell_type": "code",
   "execution_count": null,
   "id": "noted-luxury",
   "metadata": {},
   "outputs": [],
   "source": [
    "def foo(par1):\n",
    "    #print(x) #Esto imprime la de la tabla principal?\n",
    "    x=\"X asignada en foo\"\n",
    "    y=\"Y asignada en foo\"\n",
    "    print(x) #Qué pasa si lo cambio por y?\n",
    "\n",
    "x=\"X asignada en principal\"\n",
    "print(x)\n",
    "foo(\"par1\")\n",
    "print(x) #Qué pasa si lo cambio por y?"
   ]
  },
  {
   "cell_type": "markdown",
   "id": "alternate-lighter",
   "metadata": {},
   "source": [
    "Los argumentos inmutables se pasan por valor. Los mutables por referencia."
   ]
  },
  {
   "cell_type": "code",
   "execution_count": null,
   "id": "seventh-application",
   "metadata": {},
   "outputs": [],
   "source": [
    "def foo(par1):\n",
    "    par1+=10\n",
    "    print(par1)\n",
    "\n",
    "x=5\n",
    "foo(x)\n",
    "print(x)"
   ]
  },
  {
   "cell_type": "code",
   "execution_count": null,
   "id": "manufactured-albania",
   "metadata": {},
   "outputs": [],
   "source": [
    "def agregar(lista, elemento):\n",
    "    if elemento not in lista: lista.append(elemento)\n",
    "        \n",
    "l=[12, 13, 22]\n",
    "print(l)\n",
    "agregar(l, 33)\n",
    "print(l)\n",
    "agregar(l, 13)\n",
    "print(l)"
   ]
  },
  {
   "cell_type": "markdown",
   "id": "valuable-small",
   "metadata": {},
   "source": [
    "Las funciones SIEMPRE devuelven un valor."
   ]
  },
  {
   "cell_type": "code",
   "execution_count": null,
   "id": "streaming-document",
   "metadata": {},
   "outputs": [],
   "source": [
    "def foo(par1):\n",
    "    par1+=10\n",
    "    print(par1)\n",
    "print(foo(5))"
   ]
  },
  {
   "cell_type": "markdown",
   "id": "extensive-valuation",
   "metadata": {},
   "source": [
    "Podemos definir argumentos por defecto"
   ]
  },
  {
   "cell_type": "code",
   "execution_count": null,
   "id": "controlled-condition",
   "metadata": {},
   "outputs": [],
   "source": [
    "def apellidoComaNombre(nombre=\"Menganito\", apellido=\"Mengano\"):\n",
    "    return(apellido+\", \"+nombre)\n",
    "\n",
    "print(apellidoComaNombre(\"Gonzalo\", \"Zabala\"))\n",
    "print(apellidoComaNombre(\"Gonzalo\"))\n",
    "#se puede pasar argumentos con el nombre del parámetro\n",
    "print(apellidoComaNombre(apellido=\"Maradona\", nombre=\"Diego\"))\n",
    "print(apellidoComaNombre(apellido=\"Zabala\"))\n",
    "print(apellidoComaNombre())"
   ]
  },
  {
   "cell_type": "markdown",
   "id": "physical-tender",
   "metadata": {},
   "source": [
    "Si queremos pasar un número arbitrario de argumentos, agregando un \\* al comienzo del parámetro, indicamos que recibirá una tupla."
   ]
  },
  {
   "cell_type": "code",
   "execution_count": null,
   "id": "thrown-carter",
   "metadata": {},
   "outputs": [],
   "source": [
    "def foo(*pars):\n",
    "    for i in pars:\n",
    "        print(i)\n",
    "    print(\"-----\")\n",
    "        \n",
    "foo(5,4,2)\n",
    "foo(9)\n",
    "foo(\"arga\", \"argb\", 10, True)"
   ]
  },
  {
   "cell_type": "markdown",
   "id": "israeli-accordance",
   "metadata": {},
   "source": [
    "Para pasar un diccionario, agregamos \\*\\* delante del parámetro."
   ]
  },
  {
   "cell_type": "code",
   "execution_count": null,
   "id": "jewish-display",
   "metadata": {},
   "outputs": [],
   "source": [
    "def foo(**dict):\n",
    "    for key in dict:\n",
    "        print(key, \": \", dict[key])\n",
    "\n",
    "foo(apellido=\"Zabala\", nombre=\"Gonzalo\", edad=50)"
   ]
  },
  {
   "cell_type": "markdown",
   "id": "excited-doubt",
   "metadata": {},
   "source": [
    "¿Existen variables globales? Acoplamiento a full..."
   ]
  },
  {
   "cell_type": "code",
   "execution_count": null,
   "id": "champion-algebra",
   "metadata": {},
   "outputs": [],
   "source": [
    "def sumar(valor):\n",
    "    global contador #Qué pasa si lo comento?\n",
    "    contador+=valor #Contador existe o no aquí?\n",
    "    print(contador)\n",
    "    \n",
    "contador=10\n",
    "print(contador)\n",
    "sumar(15)\n",
    "print(contador)"
   ]
  },
  {
   "cell_type": "markdown",
   "id": "negative-perception",
   "metadata": {},
   "source": [
    "**NO USAR VARIABLES GLOBALES!!!**"
   ]
  },
  {
   "cell_type": "code",
   "execution_count": null,
   "id": "danish-display",
   "metadata": {},
   "outputs": [],
   "source": []
  }
 ],
 "metadata": {
  "kernelspec": {
   "display_name": "Python 3",
   "language": "python",
   "name": "python3"
  },
  "language_info": {
   "codemirror_mode": {
    "name": "ipython",
    "version": 3
   },
   "file_extension": ".py",
   "mimetype": "text/x-python",
   "name": "python",
   "nbconvert_exporter": "python",
   "pygments_lexer": "ipython3",
   "version": "3.7.7"
  }
 },
 "nbformat": 4,
 "nbformat_minor": 5
}
