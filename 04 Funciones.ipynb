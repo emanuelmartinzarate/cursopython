{
 "cells": [
  {
   "cell_type": "markdown",
   "id": "seasonal-reply",
   "metadata": {},
   "source": [
    "# Funciones\n",
    "\n",
    "**def *nombre*(*par1*, *par2*,...):  \n",
    "&emsp;*bloque de código*  \n",
    "&emsp;*con return devolvemos uno o más valores*  "
   ]
  },
  {
   "cell_type": "code",
   "execution_count": null,
   "id": "cubic-sally",
   "metadata": {},
   "outputs": [],
   "source": [
    "def fib(num):\n",
    "    \"\"\" Esto es un docstring, para documentar funciones\"\"\"\n",
    "    v1, v2=0,1\n",
    "    while v1<num:\n",
    "        print(v1, end=\" \")\n",
    "        v1, v2=v2, v1+v2\n",
    "    print()\n",
    "\n",
    "fib(100)"
   ]
  },
  {
   "cell_type": "markdown",
   "id": "specified-controversy",
   "metadata": {},
   "source": [
    "Al ejecutarse una función se genera una nueva tabla de símbolos para sus variables locales. Por defecto, todas las asignaciones de variables en una función se almacenan en la tabla local, y las referencias se buscan primero en esa tabla, luego en la tabla de funciones internas, luego en la tabla de símbolos globales y luego en la tabla de palabras reservadas."
   ]
  },
  {
   "cell_type": "code",
   "execution_count": null,
   "id": "handled-rebate",
   "metadata": {},
   "outputs": [],
   "source": [
    "def foo(par1):\n",
    "    #print(x)\n",
    "    x=\"X asignada en foo\"\n",
    "    y=\"Y asignada en foo\"\n",
    "    print(x)\n",
    "\n",
    "x=\"X asignada en principal\"\n",
    "print(x)\n",
    "foo(\"par1\")\n",
    "print(x)"
   ]
  },
  {
   "cell_type": "markdown",
   "id": "adopted-growth",
   "metadata": {},
   "source": [
    "Los argumentos se pasan por valor."
   ]
  },
  {
   "cell_type": "code",
   "execution_count": null,
   "id": "cheap-canon",
   "metadata": {},
   "outputs": [],
   "source": [
    "def foo(par1):\n",
    "    par1+=10\n",
    "    print(par1)\n",
    "\n",
    "x=5\n",
    "foo(x)\n",
    "print(x)"
   ]
  },
  {
   "cell_type": "markdown",
   "id": "figured-deputy",
   "metadata": {},
   "source": [
    "Las funciones SIEMPRE devuelven un valor."
   ]
  },
  {
   "cell_type": "code",
   "execution_count": null,
   "id": "alert-lighter",
   "metadata": {},
   "outputs": [],
   "source": [
    "print(foo(5))"
   ]
  },
  {
   "cell_type": "markdown",
   "id": "aware-housing",
   "metadata": {},
   "source": [
    "Podemos definir argumentos por defecto"
   ]
  },
  {
   "cell_type": "code",
   "execution_count": null,
   "id": "innocent-german",
   "metadata": {},
   "outputs": [],
   "source": [
    "def apellidoComaNombre(nombre=\"Menganito\", apellido=\"Mengano\"):\n",
    "    return(apellido+\", \"+nombre)\n",
    "\n",
    "print(apellidoComaNombre(\"Gonzalo\", \"Zabala\"))\n",
    "print(apellidoComaNombre(\"Gonzalo\"))\n",
    "#se puede pasar argumentos con el nombre del parámetro\n",
    "print(apellidoComaNombre(apellido=\"Maradona\", nombre=\"Diego\"))\n",
    "print(apellidoComaNombre(apellido=\"Zabala\"))\n",
    "print(apellidoComaNombre())"
   ]
  },
  {
   "cell_type": "markdown",
   "id": "molecular-quality",
   "metadata": {},
   "source": [
    "Si queremos pasar un número arbitrario de argumentos, agregando un \\* al comienzo del parámetro, indicamos que recibirá una tupla."
   ]
  },
  {
   "cell_type": "code",
   "execution_count": null,
   "id": "opponent-natural",
   "metadata": {},
   "outputs": [],
   "source": [
    "def foo(*pars):\n",
    "    for i in pars:\n",
    "        print(i)\n",
    "    print(\"-----\")\n",
    "        \n",
    "foo(5,4,2)\n",
    "foo(9)\n",
    "foo(\"arga\", \"argb\", 10, True)\n"
   ]
  },
  {
   "cell_type": "markdown",
   "id": "accessible-solomon",
   "metadata": {},
   "source": [
    "Para pasar un diccionario, agregamos \\*\\* delante del parámetro."
   ]
  },
  {
   "cell_type": "code",
   "execution_count": null,
   "id": "impressive-military",
   "metadata": {},
   "outputs": [],
   "source": [
    "def foo(**dict):\n",
    "    for key in dict:\n",
    "        print(key, \": \", dict[key])\n",
    "\n",
    "foo(apellido=\"Zabala\", nombre=\"Gonzalo\", edad=50)"
   ]
  }
 ],
 "metadata": {
  "kernelspec": {
   "display_name": "Python 3",
   "language": "python",
   "name": "python3"
  },
  "language_info": {
   "codemirror_mode": {
    "name": "ipython",
    "version": 3
   },
   "file_extension": ".py",
   "mimetype": "text/x-python",
   "name": "python",
   "nbconvert_exporter": "python",
   "pygments_lexer": "ipython3",
   "version": "3.7.7"
  }
 },
 "nbformat": 4,
 "nbformat_minor": 5
}
