{
 "cells": [
  {
   "cell_type": "markdown",
   "id": "usual-saying",
   "metadata": {},
   "source": [
    "# Lectura y escritura de archivos\n",
    "\n",
    "**open(*nombreArchivo*, *modo*) devuelve un objeto archivo.  \n",
    "Con el parámetro *encoding* indicamos el tipo de charset utilizado.  \n",
    "Con el parámetro *mode* podemos definir si será de lectura (\"r\", por defecto), escritura(\"w\"), append (\"a\") o se creará en el momento (\"x\"). Además se puede indicar si es de texto (\"t\", por defecto) o binario (\"b\").\n",
    "  \n",
    "Es una buena práctica utilizarlo dentro de la estructura *with*, que me asegura el cierre del archivo al finalizar el bloque:"
   ]
  },
  {
   "cell_type": "code",
   "execution_count": null,
   "id": "ancient-whale",
   "metadata": {},
   "outputs": [],
   "source": [
    "with open(\"quijote.txt\", encoding=\"utf8\") as archi:\n",
    "    texto=archi.read()\n",
    "print(texto[:100])\n",
    "print(\"Está cerrado?: \",archi.closed)"
   ]
  },
  {
   "cell_type": "markdown",
   "id": "novel-season",
   "metadata": {},
   "source": [
    "## Métodos de los objetos de la clase File\n",
    "\n",
    " - read(): lee todo el archivo.\n",
    " - read(*n*): lee los primeros n caracteres del archivo.\n",
    " - readline(): lee una línea (hasta \\n). También se puede leer de a líneas loopeando sobre el objeto.\n",
    " - write(*cadena*): escribe la cadena en el archivo devolviendo la cantidad de caracteres."
   ]
  },
  {
   "cell_type": "code",
   "execution_count": null,
   "id": "foster-merchandise",
   "metadata": {},
   "outputs": [],
   "source": [
    "with open(\"quijote.txt\", encoding=\"utf8\") as archi:\n",
    "    for linea in archi:\n",
    "        if linea!=\"\\n\":\n",
    "            print(linea)\n",
    "            print(\"---\")"
   ]
  },
  {
   "cell_type": "code",
   "execution_count": null,
   "id": "polar-moldova",
   "metadata": {},
   "outputs": [],
   "source": [
    "with open(\"test.txt\", encoding=\"utf8\", mode=\"wt\") as archi:\n",
    "    texto=archi.write(\"Prueba\\n\")"
   ]
  }
 ],
 "metadata": {
  "kernelspec": {
   "display_name": "Python 3",
   "language": "python",
   "name": "python3"
  },
  "language_info": {
   "codemirror_mode": {
    "name": "ipython",
    "version": 3
   },
   "file_extension": ".py",
   "mimetype": "text/x-python",
   "name": "python",
   "nbconvert_exporter": "python",
   "pygments_lexer": "ipython3",
   "version": "3.9.1"
  }
 },
 "nbformat": 4,
 "nbformat_minor": 5
}
