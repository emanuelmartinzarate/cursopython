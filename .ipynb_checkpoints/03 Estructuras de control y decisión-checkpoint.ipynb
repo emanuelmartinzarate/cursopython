{
 "cells": [
  {
   "cell_type": "markdown",
   "id": "connected-departure",
   "metadata": {},
   "source": [
    "# For (o de cómo recorrer secuencias)\n",
    "Tiene una concepción distinta a los lenguajes tradicionales.  \n",
    "Recorre elementos de una secuencia en el orden de aparición.  \n",
    "**La definición del alcance de la estructura se hace mediante indentación** (PEP8 = 4 espacios)  \n",
    "  \n",
    "for *contenedor* in *secuencia*:  \n",
    "&emsp; *código*"
   ]
  },
  {
   "cell_type": "code",
   "execution_count": null,
   "id": "lyric-roller",
   "metadata": {},
   "outputs": [],
   "source": [
    "lista=[\"a\", \"casa\", 34]\n",
    "for elemento in lista:\n",
    "    print(elemento)\n"
   ]
  },
  {
   "cell_type": "code",
   "execution_count": null,
   "id": "agricultural-nursing",
   "metadata": {},
   "outputs": [],
   "source": [
    "cadena=\"Este es otro ejemplo de secuencia\"\n",
    "for carac in cadena:\n",
    "    print(carac)"
   ]
  },
  {
   "cell_type": "markdown",
   "id": "existing-sigma",
   "metadata": {},
   "source": [
    "Con **break** podemos salir de un for"
   ]
  },
  {
   "cell_type": "code",
   "execution_count": 3,
   "id": "false-valley",
   "metadata": {},
   "outputs": [
    {
     "name": "stdout",
     "output_type": "stream",
     "text": [
      "27\n"
     ]
    }
   ],
   "source": [
    "# Suma los números hasta llegar al 3 (incluido)\n",
    "lista=[5,7,12,3,6,4,9]\n",
    "sum=0\n",
    "for ele in lista:\n",
    "    sum+=ele\n",
    "    if ele==3:\n",
    "        break\n",
    "print(sum)"
   ]
  },
  {
   "cell_type": "markdown",
   "id": "constitutional-machinery",
   "metadata": {},
   "source": [
    "Con **continue** vuelvo al loop salteando lo que sigue"
   ]
  },
  {
   "cell_type": "code",
   "execution_count": 6,
   "id": "preliminary-inside",
   "metadata": {},
   "outputs": [
    {
     "name": "stdout",
     "output_type": "stream",
     "text": [
      "7\n",
      "12\n",
      "6\n",
      "9\n"
     ]
    }
   ],
   "source": [
    "# Imprime los nros mayores a 5\n",
    "lista=[5,7,12,3,6,4,9]\n",
    "for ele in lista:\n",
    "    if ele<=5:\n",
    "        continue\n",
    "    print(ele)\n"
   ]
  },
  {
   "cell_type": "markdown",
   "id": "recorded-provincial",
   "metadata": {},
   "source": [
    "Si queremos hacer el uso clásico de *for* tenemos el método range que nos crea una suerte de lista numérica  \n",
    "**range([*start*,] *end*, [*step*])**"
   ]
  },
  {
   "cell_type": "code",
   "execution_count": 11,
   "id": "operational-alexander",
   "metadata": {},
   "outputs": [
    {
     "name": "stdout",
     "output_type": "stream",
     "text": [
      "0 1 2 3 4\n",
      "3 4 5 6 7 8 9\n",
      "4 7 10\n"
     ]
    }
   ],
   "source": [
    "# Agregamos el * para que lo muestre como una lista\n",
    "print(*range(5)) # no incluye el end, empieza en 0 si no indico start\n",
    "print(*range(3,10))\n",
    "print(*range(4, 12, 3))"
   ]
  },
  {
   "cell_type": "code",
   "execution_count": 12,
   "id": "actual-silence",
   "metadata": {},
   "outputs": [
    {
     "name": "stdout",
     "output_type": "stream",
     "text": [
      "3\n",
      "5\n",
      "7\n",
      "9\n"
     ]
    }
   ],
   "source": [
    "for i in range(3, 10, 2):\n",
    "    print(i)"
   ]
  },
  {
   "cell_type": "markdown",
   "id": "tested-projection",
   "metadata": {},
   "source": [
    "# While (nada nuevo bajo el frente)\n",
    "**while *expresión booleana*:**  \n",
    "&emsp; ** *bloque de código* **  \n",
    "  \n",
    "Break y continue se usan de la misma manera."
   ]
  },
  {
   "cell_type": "markdown",
   "id": "interim-vatican",
   "metadata": {},
   "source": [
    "# If\n",
    "**if *expresión booleana*:**  \n",
    "&emsp;** *bloque de código* **  \n",
    "**elif *expresión booleana*:**  \n",
    "&emsp;** *bloque de código* **  \n",
    "**elif *expresión booleana*:**  \n",
    "&emsp;** *bloque de código* **  \n",
    "**else *expresión booleana*:**  \n",
    "&emsp;** *bloque de código* **  \n"
   ]
  },
  {
   "cell_type": "code",
   "execution_count": null,
   "id": "fallen-stadium",
   "metadata": {},
   "outputs": [],
   "source": [
    "num=int(input(\"Ingrese un número del 1 al 10\"))\n",
    "if num>10:\n",
    "    print(\"Pero che...\")\n",
    "elif num%2==0 and num!=2:\n",
    "    print(\"El nro es par\")\n",
    "elif num%3==0 and num!=3:\n",
    "    print(\"El nro es múltiplo de 3\")\n",
    "elif num%5==0 and num!=5:\n",
    "    print(\"El nro es múltiplo de 5\")\n",
    "else:\n",
    "    print(\"El nro es primo\")"
   ]
  },
  {
   "cell_type": "code",
   "execution_count": null,
   "id": "noticed-hollywood",
   "metadata": {},
   "outputs": [],
   "source": []
  }
 ],
 "metadata": {
  "kernelspec": {
   "display_name": "Python 3",
   "language": "python",
   "name": "python3"
  },
  "language_info": {
   "codemirror_mode": {
    "name": "ipython",
    "version": 3
   },
   "file_extension": ".py",
   "mimetype": "text/x-python",
   "name": "python",
   "nbconvert_exporter": "python",
   "pygments_lexer": "ipython3",
   "version": "3.7.7"
  }
 },
 "nbformat": 4,
 "nbformat_minor": 5
}
