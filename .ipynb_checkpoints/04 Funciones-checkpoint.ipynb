{
 "cells": [
  {
   "cell_type": "markdown",
   "id": "several-farming",
   "metadata": {},
   "source": [
    "# Funciones\n",
    "\n",
    "**def *nombre*(*par1*, *par2*,...):  \n",
    "&emsp;*bloque de código*  \n",
    "&emsp;*con return devolvemos uno o más valores*  "
   ]
  },
  {
   "cell_type": "code",
   "execution_count": null,
   "id": "documented-twins",
   "metadata": {},
   "outputs": [],
   "source": [
    "def fib(num):\n",
    "    \"\"\" Esto es un docstring, para documentar funciones\"\"\"\n",
    "    v1, v2=0,1\n",
    "    while v1<num:\n",
    "        print(v1, end=\" \")\n",
    "        v1, v2=v2, v1+v2\n",
    "    print()\n",
    "\n",
    "fib(100)"
   ]
  },
  {
   "cell_type": "markdown",
   "id": "recovered-pharmacology",
   "metadata": {},
   "source": [
    "Al ejecutarse una función se genera una nueva tabla de símbolos para sus variables locales. Por defecto, todas las asignaciones de variables en una función se almacenan en la tabla local, y las referencias se buscan primero en esa tabla, luego en la tabla de funciones internas, luego en la tabla de símbolos globales y luego en la tabla de palabras reservadas."
   ]
  },
  {
   "cell_type": "code",
   "execution_count": null,
   "id": "electronic-marker",
   "metadata": {},
   "outputs": [],
   "source": [
    "def foo(par1):\n",
    "    #print(x)\n",
    "    x=\"X asignada en foo\"\n",
    "    y=\"Y asignada en foo\"\n",
    "    print(x)\n",
    "\n",
    "x=\"X asignada en principal\"\n",
    "print(x)\n",
    "foo(\"par1\")\n",
    "print(x)"
   ]
  },
  {
   "cell_type": "markdown",
   "id": "figured-burns",
   "metadata": {},
   "source": [
    "Los argumentos se pasan por valor."
   ]
  },
  {
   "cell_type": "code",
   "execution_count": 11,
   "id": "grateful-apartment",
   "metadata": {},
   "outputs": [
    {
     "name": "stdout",
     "output_type": "stream",
     "text": [
      "15\n",
      "5\n"
     ]
    }
   ],
   "source": [
    "def foo(par1):\n",
    "    par1+=10\n",
    "    print(par1)\n",
    "\n",
    "x=5\n",
    "foo(x)\n",
    "print(x)"
   ]
  },
  {
   "cell_type": "markdown",
   "id": "treated-optics",
   "metadata": {},
   "source": [
    "Las funciones SIEMPRE devuelven un valor."
   ]
  },
  {
   "cell_type": "code",
   "execution_count": 12,
   "id": "satellite-ready",
   "metadata": {},
   "outputs": [
    {
     "name": "stdout",
     "output_type": "stream",
     "text": [
      "15\n",
      "None\n"
     ]
    }
   ],
   "source": [
    "print(foo(5))"
   ]
  },
  {
   "cell_type": "markdown",
   "id": "willing-monroe",
   "metadata": {},
   "source": [
    "Podemos definir argumentos por defecto"
   ]
  },
  {
   "cell_type": "code",
   "execution_count": 14,
   "id": "tested-yemen",
   "metadata": {},
   "outputs": [
    {
     "name": "stdout",
     "output_type": "stream",
     "text": [
      "Zabala, Gonzalo\n",
      "Menganito, Gonzalo\n"
     ]
    }
   ],
   "source": [
    "def apellidoComaNombre(nombre, apellido=\"Mengano\"):\n",
    "    return(apellido+\", \"+nombre)\n",
    "\n",
    "print(apellidoComaNombre(\"Gonzalo\", \"Zabala\"))\n",
    "print(apellidoComaNombre(\"Gonzalo\"))"
   ]
  },
  {
   "cell_type": "code",
   "execution_count": null,
   "id": "experimental-demographic",
   "metadata": {},
   "outputs": [],
   "source": []
  }
 ],
 "metadata": {
  "kernelspec": {
   "display_name": "Python 3",
   "language": "python",
   "name": "python3"
  },
  "language_info": {
   "codemirror_mode": {
    "name": "ipython",
    "version": 3
   },
   "file_extension": ".py",
   "mimetype": "text/x-python",
   "name": "python",
   "nbconvert_exporter": "python",
   "pygments_lexer": "ipython3",
   "version": "3.7.7"
  }
 },
 "nbformat": 4,
 "nbformat_minor": 5
}
