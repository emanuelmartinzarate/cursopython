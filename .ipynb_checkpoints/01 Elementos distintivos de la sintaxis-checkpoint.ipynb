{
 "cells": [
  {
   "cell_type": "markdown",
   "id": "approved-concept",
   "metadata": {},
   "source": [
    "# Sintaxis en una nuez"
   ]
  },
  {
   "cell_type": "markdown",
   "id": "removed-circuit",
   "metadata": {},
   "source": [
    "## Operadores no tradicionales"
   ]
  },
  {
   "cell_type": "code",
   "execution_count": null,
   "id": "formal-malawi",
   "metadata": {},
   "outputs": [],
   "source": [
    "print(5**2)  # potenciación\n",
    "print(10%3)  # resto\n",
    "print(10//3)  # división entera\n",
    "# Comentario en una sóla linea\n",
    "print(\"casa\"*5)\n",
    "print(\"casa\" \"hola\")"
   ]
  },
  {
   "cell_type": "code",
   "execution_count": null,
   "id": "champion-watts",
   "metadata": {},
   "outputs": [],
   "source": [
    "# operadores de asignación aumentado\n",
    "var=10\n",
    "var+=1\n",
    "print(var)\n",
    "var-=2\n",
    "print(var)\n",
    "var*=5\n",
    "print(var)"
   ]
  },
  {
   "cell_type": "markdown",
   "id": "small-happening",
   "metadata": {},
   "source": [
    "## Variables\n",
    " - Una sola palabra\n",
    " - Letras, números, y _\n",
    " - No empezar con números\n",
    " - Case sensitive"
   ]
  },
  {
   "cell_type": "code",
   "execution_count": null,
   "id": "after-average",
   "metadata": {},
   "outputs": [],
   "source": [
    "var1=10\n",
    "Var1=12\n",
    "var2, var3=15, 12 # curiosa forma de asignación\n",
    "print(\"var1 - Var1: \", var1, Var1)\n",
    "print(\"Suma: \", var2+var3)"
   ]
  },
  {
   "cell_type": "markdown",
   "id": "juvenile-lucas",
   "metadata": {},
   "source": [
    "## Cadenas"
   ]
  },
  {
   "cell_type": "code",
   "execution_count": null,
   "id": "exceptional-directory",
   "metadata": {},
   "outputs": [],
   "source": [
    "# Con comillas dobles o simples es \"casi\" lo mismo (ambos son strings)\n",
    "print(\"cadena\")\n",
    "print('cadena')\n",
    "print(type(\"cadena\"), type('cadena'))"
   ]
  },
  {
   "cell_type": "code",
   "execution_count": null,
   "id": "military-control",
   "metadata": {},
   "outputs": [],
   "source": [
    "# podemos usar \\ para caracteres especiales\n",
    "print(\"Tab\\tconvencional\")\n",
    "print(\"Otro\\ttab\")\n",
    "print(\"Una línea\\ny otra\")\n",
    "# si quiero que no interprete caracteres especiales agrego una r (raw) delante de la cadena\n",
    "print(r\"C:\\Windows\\notebook\")"
   ]
  },
  {
   "cell_type": "code",
   "execution_count": null,
   "id": "smoking-lexington",
   "metadata": {},
   "outputs": [],
   "source": [
    "# podemos acceder a substrings en forma indexada\n",
    "palabra=\"Dabale arroz a la zorra el abad\"\n",
    "print(palabra[2]) #Comienza en 0\n",
    "print(palabra[-1]) #Con nros negativos comienza desde la derecha!! (no me digan que no es original!!!)\n",
    "print(palabra[3:5]) #Substring desde índice inicial (incluido) a final (excluido)\n",
    "print(palabra[7:])\n",
    "print(palabra[:7])\n",
    "print(palabra[-3:]) #Con negativos toma desde el final pero luego sigue hacia la derecha, no invierte"
   ]
  },
  {
   "cell_type": "code",
   "execution_count": null,
   "id": "successful-melbourne",
   "metadata": {},
   "outputs": [],
   "source": [
    "# son inmutables\n",
    "palabra[2]=\"i\""
   ]
  },
  {
   "cell_type": "code",
   "execution_count": null,
   "id": "modified-machine",
   "metadata": {},
   "outputs": [],
   "source": [
    "# largo de una cadena\n",
    "print(len(palabra))"
   ]
  },
  {
   "cell_type": "markdown",
   "id": "direct-david",
   "metadata": {},
   "source": [
    "## Listas\n",
    " - Estructura de datos más sencilla\n",
    " - Multitipo (es raro combinar tipos...)\n",
    " - Comportamiento muy similar al de una cadena, pero no es inmutable"
   ]
  },
  {
   "cell_type": "code",
   "execution_count": 42,
   "id": "social-agent",
   "metadata": {},
   "outputs": [
    {
     "name": "stdout",
     "output_type": "stream",
     "text": [
      "[1, 5, 'casa', 3.3, True]\n",
      "casa\n",
      "[5, 'casa']\n",
      "[1, 5, 'casa', 3.3]\n",
      "[3.3, True]\n",
      "3.3\n",
      "[1, 5, 'casa', 3.3, True, 1, 5, 'casa', 3.3, True]\n",
      "[42, 5, 'casa', 3.3, True]\n",
      "[42, 5, 'casa', 3.3, True, 42, 5, 'casa', 3.3, True, 42, 5, 'casa', 3.3, True]\n"
     ]
    }
   ],
   "source": [
    "lista=[1, 5, \"casa\", 3.3, True ]\n",
    "print(\"Lista:\", lista)\n",
    "print(\"Elemento de la lista:\", lista[2])\n",
    "# slice como cadenas\n",
    "print(\"Slice: \", lista[1:3])\n",
    "print(lista[:4])\n",
    "print(lista[3:])\n",
    "print(lista[-2])\n",
    "#es mutable\n",
    "lista[0]=42\n",
    "print(lista)"
   ]
  },
  {
   "cell_type": "markdown",
   "id": "demanding-minister",
   "metadata": {},
   "source": [
    "### Operaciones con listas"
   ]
  },
  {
   "cell_type": "code",
   "execution_count": 60,
   "id": "turkish-glass",
   "metadata": {},
   "outputs": [
    {
     "name": "stdout",
     "output_type": "stream",
     "text": [
      "Suma:  [1, 2, 3, 4, 5, 1, 2, 3, 4, 5]\n",
      "Mult: [1, 2, 3, 4, 5, 1, 2, 3, 4, 5, 1, 2, 3, 4, 5, 1, 2, 3, 4, 5]\n",
      "Lista extendida: [1, 2, 3, 4, 5, 6]\n",
      "Largo de lista 6\n",
      "Le agregamos un elemento en el medio:  [1, 2, 3, 100, 4, 5, 6]\n",
      "Modif de slice:  [1, 2, 100, 200, 4, 5, 6]\n",
      "Lista sin primer elemento:  [2, 100, 200, 4, 5, 6]\n"
     ]
    }
   ],
   "source": [
    "l1=[1,2,3,4,5]\n",
    "suma=l1+l1\n",
    "print(\"Suma: \", suma)\n",
    "mult=l1*4\n",
    "print(\"Mult:\", mult)\n",
    "l1.append(6) #añadir al final un elemento\n",
    "print(\"Lista extendida:\", l1)\n",
    "print(\"Largo de lista\", len(l1))\n",
    "# Agregar elemento en el medio\n",
    "l1.insert(3, 100)\n",
    "print(\"Le agregamos un elemento en el medio: \", l1)\n",
    "# Modificamos un slice\n",
    "l1[2:4]=[100, 200]\n",
    "print(\"Modif de slice: \", l1)\n",
    "del l1[0] #elimino un elemento\n",
    "print(\"Lista sin primer elemento: \", l1)"
   ]
  },
  {
   "cell_type": "code",
   "execution_count": 54,
   "id": "electoral-bankruptcy",
   "metadata": {},
   "outputs": [
    {
     "name": "stdout",
     "output_type": "stream",
     "text": [
      "Lista:  ['a', 'b', 'c', [1, 2, 3], 34]\n",
      "Lista2:  ['a', 'b', 'c', [1, 2, 3]]\n",
      "Lista con cambio en componente:  ['a', 'b', 'c', [1, 2, 3, 4], 34]\n",
      "Lista2 con cambio en componente:  ['a', 'b', 'c', [1, 2, 3, 4]]\n"
     ]
    }
   ],
   "source": [
    "# IMPORTANTE: asignación de un slice es un shallow copy\n",
    "l1=[1,2,3]\n",
    "lista=[\"a\", \"b\", \"c\", l1]\n",
    "lista2=lista[:]\n",
    "lista.append(34)\n",
    "print(\"Lista: \", lista)\n",
    "print(\"Lista2: \", lista2)\n",
    "l1.append(4)\n",
    "print(\"Lista con cambio en componente: \", lista)\n",
    "print(\"Lista2 con cambio en componente: \", lista2)"
   ]
  },
  {
   "cell_type": "code",
   "execution_count": 59,
   "id": "domestic-royal",
   "metadata": {},
   "outputs": [
    {
     "name": "stdout",
     "output_type": "stream",
     "text": [
      "El 5 está?:  True\n",
      "El 14 está?:  False\n",
      "El 14 no está?:  True\n",
      "El 33 está en la posición:  2\n"
     ]
    }
   ],
   "source": [
    "# Buscando en las listas\n",
    "comisiones=[5,12,33,1,6,8]\n",
    "print(\"El 5 está?: \", 5 in comisiones)\n",
    "print(\"El 14 está?: \", 14 in comisiones)\n",
    "print(\"El 14 no está?: \", 14 not in comisiones)\n",
    "#Encontrando la posición\n",
    "print(\"El 33 está en la posición: \", comisiones.index(33))"
   ]
  },
  {
   "cell_type": "code",
   "execution_count": null,
   "id": "advisory-scope",
   "metadata": {},
   "outputs": [],
   "source": [
    "x=100\n",
    "print(f\"El valor de x es {x}\")"
   ]
  },
  {
   "cell_type": "markdown",
   "id": "cooked-vertical",
   "metadata": {},
   "source": [
    "docstring\n",
    "formateo de print\n",
    "multistatement, multilínea, fin de línea\n",
    "identificadores y palabras reservadas\n",
    "bloques de código\n",
    "PEP 8"
   ]
  }
 ],
 "metadata": {
  "kernelspec": {
   "display_name": "Python 3",
   "language": "python",
   "name": "python3"
  },
  "language_info": {
   "codemirror_mode": {
    "name": "ipython",
    "version": 3
   },
   "file_extension": ".py",
   "mimetype": "text/x-python",
   "name": "python",
   "nbconvert_exporter": "python",
   "pygments_lexer": "ipython3",
   "version": "3.7.7"
  }
 },
 "nbformat": 4,
 "nbformat_minor": 5
}
