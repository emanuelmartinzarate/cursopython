{
 "cells": [
  {
   "cell_type": "markdown",
   "id": "precious-twist",
   "metadata": {},
   "source": [
    "# Estructuras de datos\n",
    "\n",
    " - Secuencias: conjunto de datos con cierto orden\n",
    "     - No tienen límite de contenido ni necesito saber el tamaño al momento de crearla\n",
    "     - \n",
    "     - Según su contenido:\n",
    "       - Contenedoras: almacenan punteros a los elementos que contienen. Pueden ser de distinto tipo (inclusive otra secuencia). Ej: listas, tuplas, colecciones.\n",
    "       - Planas: almacenan *físicamente* el valor de cada elemento en su propio espacio de memoria. Deben ser del mismo tipo (y tipos primitivos). Ej: strings, bytearray, array.\n",
    "     - Si puedo modificar uno de sus elementos:\n",
    "        - Mutables: list, bytearray, array, collections.\n",
    "        - Inmutables: tuplas, string."
   ]
  },
  {
   "cell_type": "markdown",
   "id": "considered-wiring",
   "metadata": {},
   "source": [
    "## Métodos y funciones comunes a las secuencias"
   ]
  },
  {
   "cell_type": "code",
   "execution_count": null,
   "id": "encouraging-customs",
   "metadata": {},
   "outputs": [],
   "source": [
    "# Métodos y funciones comunes a las secuencias\n",
    "# Esto es una lista\n",
    "lista=[\"Todas\", \"las\", \"hojas\", \"son\", \"del\", \"viento\"]\n",
    "cadena=\"Todas las hojas son del viento\"\n",
    "# longitud\n",
    "print(\"Longitud de la lista: \", len(lista))\n",
    "print(\"Longitud de la cadena: \", len(cadena))\n",
    "# máximo y mínimo (si es contenedora debe ser del mismo tipo)\n",
    "print(\"Máximo de la lista: \", max(lista))\n",
    "print(\"Mínimo de la cadena: \", min(cadena))\n",
    "# Búsqueda y ocurrencias\n",
    "print(\"La palabra son está en la pos:\", lista.index(\"son\"))\n",
    "print(\"La cantidad de veces que está la o es: \", cadena.count(\"o\"))\n",
    "# Join\n",
    "# separador.join(secuencia)\n",
    "print(\"-\".join(lista))"
   ]
  },
  {
   "cell_type": "markdown",
   "id": "played-construction",
   "metadata": {},
   "source": [
    "### Slices\n",
    "**secuencia[*x:y:z*]**: devuelve una secuencia del mismo tipo que la original, conteniendo los elementos desde *x* (inc) hasta *y* (no inc) salteando de *z* en *z*"
   ]
  },
  {
   "cell_type": "code",
   "execution_count": null,
   "id": "inappropriate-collar",
   "metadata": {},
   "outputs": [],
   "source": [
    "# Recordar que es índice 0\n",
    "lista=[1, 5, \"casa\", 3.3, True ]\n",
    "print(\"Lista:\", lista)\n",
    "print(\"Elemento de la lista:\", lista[2])\n",
    "# slice como con las cadenas\n",
    "print(\"Slice del 1 (incluido) al 3 (no incluido): \", lista[1:3])\n",
    "print(\"Hasta el elemento 4 no incluido: \",lista[:4])\n",
    "print(\"Desde el 3 (inc)\", lista[3:])\n",
    "print(\"El 2do elem de la derecha: \", lista[-2])\n",
    "print(\"Desde el 0 hasta el final, de 2 en 2!:\", lista[0::2])\n",
    "#es mutable\n",
    "lista[0]=42\n",
    "print(lista)"
   ]
  },
  {
   "cell_type": "markdown",
   "id": "behind-harmony",
   "metadata": {},
   "source": [
    "## Listas\n",
    " - Estructura de datos más sencilla\n",
    " - Multitipo (es raro combinar tipos...)\n",
    " - Comportamiento muy similar al de una cadena, pero no es inmutable"
   ]
  },
  {
   "cell_type": "markdown",
   "id": "round-preview",
   "metadata": {},
   "source": [
    "### Operaciones con listas"
   ]
  },
  {
   "cell_type": "code",
   "execution_count": null,
   "id": "cognitive-hormone",
   "metadata": {},
   "outputs": [],
   "source": [
    "l1=[1,2,3,4,5]\n",
    "suma=l1+l1\n",
    "print(\"Suma: \", suma)\n",
    "mult=l1*4\n",
    "print(\"Mult:\", mult)\n",
    "l1.append(6) #añadir al final un elemento\n",
    "print(\"Lista extendida:\", l1)\n",
    "print(\"Largo de lista\", len(l1))\n",
    "# Agregar elemento en el medio\n",
    "l1.insert(3, 500)\n",
    "print(\"Le agregamos un elemento en el medio: \", l1)\n",
    "# Modificamos un slice\n",
    "l1[2:4]=[100, 200]\n",
    "print(\"Modif de slice: \", l1)\n",
    "del l1[0] #elimino un elemento por el índice\n",
    "print(\"Lista sin primer elemento: \", l1)\n",
    "l1.remove(100) #elimino un elemento por contenido\n",
    "print(\"Lista sin el 100: \", l1)"
   ]
  },
  {
   "cell_type": "code",
   "execution_count": null,
   "id": "heard-cooking",
   "metadata": {},
   "outputs": [],
   "source": [
    "# IMPORTANTE: asignación de un slice es un shallow copy\n",
    "l1=[1,2,3]\n",
    "lista=[\"a\", \"b\", \"c\", l1]\n",
    "lista2=lista[:]\n",
    "lista.append(34)\n",
    "print(\"Lista: \", lista)\n",
    "print(\"Lista2: \", lista2)\n",
    "l1.append(4)\n",
    "print(\"Lista con cambio en componente: \", lista)\n",
    "print(\"Lista2 con cambio en componente: \", lista2)"
   ]
  },
  {
   "cell_type": "code",
   "execution_count": null,
   "id": "hindu-consensus",
   "metadata": {},
   "outputs": [],
   "source": [
    "# Buscando en las listas\n",
    "comisiones=[5,12,33,1,6,8]\n",
    "print(\"El 5 está?: \", 5 in comisiones)\n",
    "print(\"El 14 está?: \", 14 in comisiones)\n",
    "print(\"El 14 no está?: \", 14 not in comisiones)\n",
    "#Encontrando la posición\n",
    "print(\"El 33 está en la posición: \", comisiones.index(33))"
   ]
  },
  {
   "cell_type": "code",
   "execution_count": null,
   "id": "polar-tomorrow",
   "metadata": {},
   "outputs": [],
   "source": [
    "# Ordenando listas\n",
    "aleatorio=[\"Laura\",\"Franco\",\"Clara\",\"Lucía\",\"Gastón\"]\n",
    "print(\"Lista original: \", aleatorio)\n",
    "# Método para ordenar\n",
    "aleatorio.sort()\n",
    "print(\"Lista ordenada: \", aleatorio)\n",
    "# Ordenamiento inverso\n",
    "aleatorio.sort(reverse=True)\n",
    "print(\"Lista ordenada en forma inversa: \", aleatorio)"
   ]
  },
  {
   "cell_type": "markdown",
   "id": "induced-wings",
   "metadata": {},
   "source": [
    "## Tuplas\n",
    "\n",
    "Idem listas pero inmutables. Se definen entre ()"
   ]
  },
  {
   "cell_type": "code",
   "execution_count": 21,
   "id": "acceptable-phenomenon",
   "metadata": {},
   "outputs": [
    {
     "name": "stdout",
     "output_type": "stream",
     "text": [
      "Suma:  (1, 2, 3, 4, 5, 1, 2, 3, 4, 5)\n",
      "Mult: (1, 2, 3, 4, 5, 1, 2, 3, 4, 5, 1, 2, 3, 4, 5, 1, 2, 3, 4, 5)\n",
      "Largo de tupla 5\n"
     ]
    }
   ],
   "source": [
    "t1=(1,2,3,4,5)\n",
    "suma=t1+t1\n",
    "print(\"Suma: \", suma)\n",
    "mult=t1*4\n",
    "print(\"Mult:\", mult)\n",
    "print(\"Largo de tupla\", len(t1))"
   ]
  },
  {
   "cell_type": "code",
   "execution_count": null,
   "id": "preliminary-detective",
   "metadata": {},
   "outputs": [],
   "source": []
  }
 ],
 "metadata": {
  "kernelspec": {
   "display_name": "Python 3",
   "language": "python",
   "name": "python3"
  },
  "language_info": {
   "codemirror_mode": {
    "name": "ipython",
    "version": 3
   },
   "file_extension": ".py",
   "mimetype": "text/x-python",
   "name": "python",
   "nbconvert_exporter": "python",
   "pygments_lexer": "ipython3",
   "version": "3.7.7"
  }
 },
 "nbformat": 4,
 "nbformat_minor": 5
}
