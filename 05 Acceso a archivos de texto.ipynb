{
 "cells": [
  {
   "cell_type": "markdown",
   "id": "excess-philip",
   "metadata": {},
   "source": [
    "# Lectura y escritura de archivos\n",
    "\n",
    "**open(*nombreArchivo*, *modo*)** devuelve un objeto archivo.  \n",
    "Con el parámetro *encoding* indicamos el tipo de charset utilizado.  \n",
    "Con el parámetro *mode* podemos definir si será de lectura (\"r\", por defecto), escritura(\"w\"), append (\"a\") o se creará en el momento (\"x\"). Además se puede indicar si es de texto (\"t\", por defecto) o binario (\"b\").\n",
    "  \n",
    "Es una buena práctica utilizarlo dentro de la estructura *with*, que me asegura el cierre del archivo al finalizar el bloque:"
   ]
  },
  {
   "cell_type": "code",
   "execution_count": null,
   "id": "grateful-alloy",
   "metadata": {},
   "outputs": [],
   "source": [
    "# Mantiene abierto mientras estoy en el with. Al salir lo cierra automáticamente.\n",
    "with open(\"quijote.txt\", encoding=\"utf8\") as archi: # archi es una referencia a un objeto de la clase File\n",
    "    texto=archi.read()\n",
    "    print(texto[:100])\n",
    "    print(\"Está cerrado?: \",archi.closed)\n",
    "\n",
    "print(\"Está cerrado ahora?: \",archi.closed)"
   ]
  },
  {
   "cell_type": "code",
   "execution_count": null,
   "id": "rolled-second",
   "metadata": {},
   "outputs": [],
   "source": [
    "# En este caso debo acordarme de cerrarlo.\n",
    "archi=open(\"quijote.txt\", encoding=\"utf8\")\n",
    "texto=archi.read()\n",
    "print(texto[:100])\n",
    "print(\"Está cerrado?: \",archi.closed)\n",
    "archi.close()\n",
    "print(\"Está cerrado?: \",archi.closed)"
   ]
  },
  {
   "cell_type": "markdown",
   "id": "utility-radical",
   "metadata": {},
   "source": [
    "## Métodos de los objetos de la clase File\n",
    "\n",
    " - read(): lee todo el archivo.\n",
    " - read(*n*): lee los ***siguientes n*** caracteres del archivo (puntero mientras esté abierto).\n",
    " - readline(): lee una línea (hasta \\n). También se puede leer de a líneas recorriendo el objeto de la clase File.\n",
    " - write(*cadena*): escribe la cadena en el archivo devolviendo la cantidad de caracteres."
   ]
  },
  {
   "cell_type": "code",
   "execution_count": null,
   "metadata": {},
   "outputs": [],
   "source": [
    "with open(\"quijote.txt\", encoding=\"utf8\") as archi:\n",
    "    for i in range(1,10):\n",
    "        texto=archi.read(4)+\"-\"\n",
    "        print(texto)\n",
    "        print(\"---\")"
   ]
  },
  {
   "cell_type": "code",
   "execution_count": 22,
   "metadata": {},
   "outputs": [
    {
     "output_type": "stream",
     "name": "stdout",
     "text": [
      "\n---\nEl ingenioso hidalgo don Quijote de la Mancha\n---\npor Miguel de Cervantes Saavedra\n---\n\n---\nEl ingenioso hidalgo don Quijote de la Mancha\n---\n\n---\nTasa\n---\n\n---\nTestimonio de las erratas\n---\n\n---\nEl Rey\n---\nAl Duque de Béjar\n---\nPrólogo\n---\n\n---\n\n---\nAl libro de don Quijote de la Mancha\n---\n\n---\n\n---\n\n---\nQue trata de la condición y ejercicio del famoso\n---\nhidalgo don Quijote de la Mancha\n---\n\n---\nQue trata de la primera salida que de su tierra hizo\n---\nel ingenioso don Quijote\n---\n\n---\nDonde se cuenta la graciosa manera que tuvo don\n---\nQuijote en armarse caballero\n---\n\n---\nDe lo que le sucedió a nuestro caballero cuando salió\n---\n"
     ]
    }
   ],
   "source": [
    "with open(\"quijote.txt\", encoding=\"utf8\") as archi:\n",
    "    for i in range(1,30):\n",
    "        linea=archi.readline()\n",
    "        linea=linea.rstrip()\n",
    "        print(linea)\n",
    "        print(\"---\")"
   ]
  },
  {
   "cell_type": "code",
   "execution_count": null,
   "id": "cheap-convention",
   "metadata": {
    "tags": [
     "outputPrepend"
    ]
   },
   "outputs": [],
   "source": [
    "with open(\"quijote.txt\", encoding=\"utf8\") as archi:\n",
    "    for linea in archi:\n",
    "        if linea!='\\n':\n",
    "            linea=linea.rstrip()\n",
    "            print(linea)\n",
    "            print(\"---\")"
   ]
  },
  {
   "cell_type": "code",
   "execution_count": 28,
   "id": "damaged-contractor",
   "metadata": {},
   "outputs": [
    {
     "output_type": "stream",
     "name": "stdout",
     "text": [
      "16\n"
     ]
    }
   ],
   "source": [
    "with open(\"test.txt\", encoding=\"utf8\", mode=\"at\") as archi:\n",
    "    resu=archi.write(\"Esto suma cosas\\n\")\n",
    "print(resu)"
   ]
  },
  {
   "cell_type": "code",
   "execution_count": null,
   "metadata": {},
   "outputs": [],
   "source": []
  }
 ],
 "metadata": {
  "kernelspec": {
   "display_name": "Python 3",
   "language": "python",
   "name": "python3"
  },
  "language_info": {
   "codemirror_mode": {
    "name": "ipython",
    "version": 3
   },
   "file_extension": ".py",
   "mimetype": "text/x-python",
   "name": "python",
   "nbconvert_exporter": "python",
   "pygments_lexer": "ipython3",
   "version": "3.7.7-final"
  }
 },
 "nbformat": 4,
 "nbformat_minor": 5
}