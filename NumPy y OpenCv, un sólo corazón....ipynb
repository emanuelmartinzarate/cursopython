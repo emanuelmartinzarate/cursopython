{
 "cells": [
  {
   "cell_type": "markdown",
   "id": "adolescent-desert",
   "metadata": {},
   "source": [
    "# NumPy  \n",
    "  \n",
    "Es una librería para trabajar con vectores y matrices multidimensionales, con una colección de funciones matemáticas\n",
    "poderosas.  \n",
    "  \n",
    "Su estructura de datos fundamental es *ndarray* que permite configurar una matriz de *n* dimensiones. La matriz debe ser homogénea.\n",
    "\n",
    "## Instalación\n",
    "\n",
    "pip install numpy\n",
    "\n",
    "## Creación de un ndarray\n",
    "\n",
    "np.array(*secuencia*)"
   ]
  },
  {
   "cell_type": "code",
   "execution_count": 6,
   "id": "younger-header",
   "metadata": {},
   "outputs": [
    {
     "name": "stdout",
     "output_type": "stream",
     "text": [
      "[2 4 8 3]\n",
      "<class 'numpy.ndarray'>\n",
      "int32\n",
      "float64\n"
     ]
    }
   ],
   "source": [
    "import numpy as np\n",
    "vec=np.array([2,4,8,3])\n",
    "print(vec)\n",
    "print(type(vec))\n",
    "print(vec.dtype) # tipo de dato que almacena el array\n",
    "vec=np.array([1.2,3,5.4])\n",
    "print(vec.dtype)"
   ]
  },
  {
   "cell_type": "markdown",
   "id": "economic-colors",
   "metadata": {},
   "source": [
    "Transforma secuencias de secuencias en un array de 2 dimensiones, secuencias de secuencias de secuencias en uno de 3 y así sucesivamente:"
   ]
  },
  {
   "cell_type": "code",
   "execution_count": 8,
   "id": "nominated-burning",
   "metadata": {},
   "outputs": [
    {
     "name": "stdout",
     "output_type": "stream",
     "text": [
      "[[1 4 2]\n",
      " [4 5 3]]\n",
      "[[[1 2]\n",
      "  [4 3]\n",
      "  [5 3]]\n",
      "\n",
      " [[8 9]\n",
      "  [2 6]\n",
      "  [2 1]]]\n"
     ]
    }
   ],
   "source": [
    "dosD=np.array([[1,4,2], [4,5,3]])\n",
    "print(dosD)\n",
    "tresD=np.array((((1,2),(4,3),(5,3)),((8,9),(2,6),(2,1))))\n",
    "print(tresD)"
   ]
  },
  {
   "cell_type": "markdown",
   "id": "specified-transaction",
   "metadata": {},
   "source": [
    "Podemos declarar el tipo en su constructor:"
   ]
  },
  {
   "cell_type": "code",
   "execution_count": 10,
   "id": "animated-girlfriend",
   "metadata": {},
   "outputs": [
    {
     "name": "stdout",
     "output_type": "stream",
     "text": [
      "[1.+0.j 5.+0.j 2.+0.j 3.+0.j]\n",
      "[1. 5. 2. 3.]\n"
     ]
    }
   ],
   "source": [
    "complejo=np.array([1,5,2,3], dtype=\"complex\")\n",
    "print(complejo)\n",
    "flotante=np.array([1,5,2,3], dtype=\"float64\")\n",
    "print(flotante)"
   ]
  },
  {
   "cell_type": "code",
   "execution_count": null,
   "id": "legislative-disclosure",
   "metadata": {},
   "outputs": [],
   "source": []
  }
 ],
 "metadata": {
  "kernelspec": {
   "display_name": "Python 3",
   "language": "python",
   "name": "python3"
  },
  "language_info": {
   "codemirror_mode": {
    "name": "ipython",
    "version": 3
   },
   "file_extension": ".py",
   "mimetype": "text/x-python",
   "name": "python",
   "nbconvert_exporter": "python",
   "pygments_lexer": "ipython3",
   "version": "3.9.1"
  }
 },
 "nbformat": 4,
 "nbformat_minor": 5
}
