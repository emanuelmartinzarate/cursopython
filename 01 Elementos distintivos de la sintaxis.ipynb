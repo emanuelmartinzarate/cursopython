{
 "cells": [
  {
   "cell_type": "markdown",
   "id": "backed-label",
   "metadata": {},
   "source": [
    "# Operadores"
   ]
  },
  {
   "cell_type": "code",
   "execution_count": null,
   "id": "intermediate-still",
   "metadata": {},
   "outputs": [],
   "source": [
    "# No tradicionales\n",
    "print(5**2)  # potenciación\n",
    "print(10%3)  # resto\n",
    "print(10//3)  # división entera\n",
    "# Multiplicación de cadenas???\n",
    "print(\"casa\"*5)\n",
    "# Concatenación (sólo para literales)\n",
    "print(\"casa\" \"hola\")"
   ]
  },
  {
   "cell_type": "code",
   "execution_count": null,
   "id": "affected-herald",
   "metadata": {},
   "outputs": [],
   "source": [
    "# operadores de asignación aumentada\n",
    "var=10\n",
    "var+=1\n",
    "print(var)\n",
    "var-=2\n",
    "print(var)\n",
    "var*=5\n",
    "print(var)"
   ]
  },
  {
   "cell_type": "code",
   "execution_count": null,
   "id": "stable-maria",
   "metadata": {},
   "outputs": [],
   "source": [
    "# operadores comparación y lógicos\n",
    "a=5\n",
    "b=12\n",
    "print(a==5)\n",
    "print(a!=b)\n",
    "print(a==5 and a!=b)\n",
    "print(a==7 and a==b)"
   ]
  },
  {
   "cell_type": "markdown",
   "id": "alike-creation",
   "metadata": {},
   "source": [
    "# Variables\n",
    " - Una sola palabra\n",
    " - Letras, números, y _\n",
    " - No empezar con números\n",
    " - Case sensitive\n",
    " - Tipado dinámico"
   ]
  },
  {
   "cell_type": "code",
   "execution_count": 11,
   "id": "several-blast",
   "metadata": {},
   "outputs": [
    {
     "name": "stdout",
     "output_type": "stream",
     "text": [
      "var1 - Var1:  10 12.5\n",
      "Suma:  27\n",
      "<class 'float'>\n",
      "<class 'str'>\n"
     ]
    }
   ],
   "source": [
    "# No declaramos el tipo de una variable\n",
    "var1=10\n",
    "Var1=12.5 #case sensitive\n",
    "var2, var3=15, 12 # curiosa forma de asignación\n",
    "print(\"var1 - Var1: \", var1, Var1) # no es lo mismo\n",
    "print(\"Suma: \", var2+var3)\n",
    "# Con type(expresión) puedo saber el tipo de la expresión\n",
    "print(type(Var1))\n",
    "Var1=\"casa\"\n",
    "print(type(Var1))"
   ]
  },
  {
   "cell_type": "markdown",
   "id": "funded-moldova",
   "metadata": {},
   "source": [
    "# Tipos de datos básicos\n",
    "\n",
    " - Enteros (int)\n",
    " - Punto flotante (float)\n",
    " - Complejos (complex)\n",
    " - Booleanos (boolean)\n",
    " - Cadenas (string)"
   ]
  },
  {
   "cell_type": "code",
   "execution_count": 13,
   "id": "known-slovak",
   "metadata": {},
   "outputs": [
    {
     "name": "stdout",
     "output_type": "stream",
     "text": [
      "<class 'int'>\n",
      "<class 'float'>\n",
      "<class 'complex'>\n",
      "<class 'bool'>\n"
     ]
    }
   ],
   "source": [
    "print(type(5))\n",
    "print(type(5.3))\n",
    "print(type(3+5j))\n",
    "print(type(5==3))"
   ]
  },
  {
   "cell_type": "markdown",
   "id": "cutting-visiting",
   "metadata": {},
   "source": [
    "# Cadenas"
   ]
  },
  {
   "cell_type": "code",
   "execution_count": null,
   "id": "peripheral-occasion",
   "metadata": {},
   "outputs": [],
   "source": [
    "# Con comillas dobles o simples es \"casi\" lo mismo (ambos son strings)\n",
    "print(\"cadena\")\n",
    "print('cadena')\n",
    "print(type(\"cadena\"), type('cadena'))"
   ]
  },
  {
   "cell_type": "code",
   "execution_count": null,
   "id": "interior-place",
   "metadata": {},
   "outputs": [],
   "source": [
    "# podemos usar \\ para caracteres especiales\n",
    "print(\"Tab\\tconvencional\")\n",
    "print(\"Otro\\ttab\")\n",
    "print(\"Una línea\\ny otra\")\n",
    "# si quiero que no interprete caracteres especiales agrego una r (raw) delante de la cadena\n",
    "print(r\"C:\\Windows\\notebook\")"
   ]
  },
  {
   "cell_type": "code",
   "execution_count": null,
   "id": "certified-connection",
   "metadata": {},
   "outputs": [],
   "source": [
    "# podemos acceder a substrings en forma indexada\n",
    "palabra=\"Dabale arroz a la zorra el abad\"\n",
    "print(palabra[2]) #Comienza en 0\n",
    "print(palabra[-1]) #Con nros negativos comienza desde la derecha!! (no me digan que no es original!!!)\n",
    "print(palabra[3:5]) #Substring desde índice inicial (incluido) a final (excluido)\n",
    "print(palabra[7:])\n",
    "print(palabra[:7])\n",
    "print(palabra[-3:]) #Con negativos toma desde el final pero luego sigue hacia la derecha, no invierte"
   ]
  },
  {
   "cell_type": "code",
   "execution_count": null,
   "id": "pressing-morris",
   "metadata": {},
   "outputs": [],
   "source": [
    "# son inmutables\n",
    "palabra[2]=\"i\""
   ]
  },
  {
   "cell_type": "code",
   "execution_count": null,
   "id": "tropical-decision",
   "metadata": {},
   "outputs": [],
   "source": [
    "# largo de una cadena\n",
    "print(len(palabra))"
   ]
  },
  {
   "cell_type": "code",
   "execution_count": null,
   "id": "fourth-asset",
   "metadata": {},
   "outputs": [],
   "source": [
    "x=100\n",
    "print(f\"El valor de x es {x}\")"
   ]
  },
  {
   "cell_type": "markdown",
   "id": "quarterly-manor",
   "metadata": {},
   "source": [
    "docstring\n",
    "formateo de print\n",
    "\n",
    "PEP 8\n",
    "tuplas, estructuras de datos\n",
    "list comprehensions"
   ]
  }
 ],
 "metadata": {
  "kernelspec": {
   "display_name": "Python 3",
   "language": "python",
   "name": "python3"
  },
  "language_info": {
   "codemirror_mode": {
    "name": "ipython",
    "version": 3
   },
   "file_extension": ".py",
   "mimetype": "text/x-python",
   "name": "python",
   "nbconvert_exporter": "python",
   "pygments_lexer": "ipython3",
   "version": "3.7.7"
  }
 },
 "nbformat": 4,
 "nbformat_minor": 5
}
