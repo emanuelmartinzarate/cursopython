{
 "cells": [
  {
   "cell_type": "markdown",
   "id": "miniature-spoke",
   "metadata": {},
   "source": [
    "# Estructuras de datos\n",
    "\n",
    " - Secuencias: conjunto de datos con cierto orden\n",
    "     - No tienen límite de contenido ni necesito saber el tamaño al momento de crearla\n",
    "     - Según su contenido:\n",
    "       - Contenedoras: almacenan punteros a los elementos que contienen. Pueden ser de distinto tipo (inclusive otra secuencia). Ej: listas, tuplas, colecciones.\n",
    "       - Planas: almacenan *físicamente* el valor de cada elemento en su propio espacio de memoria. Deben ser del mismo tipo (y tipos primitivos). Ej: strings, bytearray, array.\n",
    "     - Si puedo modificar uno de sus elementos:\n",
    "        - Mutables: list, bytearray, array, collections.\n",
    "        - Inmutables: tuplas, string."
   ]
  },
  {
   "cell_type": "markdown",
   "id": "reserved-benefit",
   "metadata": {},
   "source": [
    "## Métodos y funciones comunes a las secuencias"
   ]
  },
  {
   "cell_type": "code",
   "execution_count": null,
   "id": "adverse-speaker",
   "metadata": {},
   "outputs": [],
   "source": [
    "# Métodos y funciones comunes a las secuencias\n",
    "# Esto es una lista\n",
    "lista=[\"Todas\", \"las\", \"hojas\", \"son\", \"del\", \"viento\", \"del\"]\n",
    "cadena=\"Todas las hojas son del viento\"\n",
    "# longitud\n",
    "print(\"Longitud de la lista: \", len(lista))\n",
    "print(\"Longitud de la cadena: \", len(cadena))\n",
    "# máximo y mínimo (si es contenedora debe ser del mismo tipo)\n",
    "print(\"Máximo de la lista: \", max(lista))\n",
    "print(\"Mínimo de la cadena: \", min(cadena))\n",
    "# Búsqueda y ocurrencias\n",
    "print(\"La palabra son está en la pos:\", lista.index(\"son\"))\n",
    "print(\"La letra a está en la pos:\", cadena.index(\"a\"))\n",
    "print(\"La cantidad de veces que está la o es: \", cadena.count(\"o\"))\n",
    "print(\"La cantidad de veces que esta 'del' en la lista es: \", lista.count(\"del\"))\n",
    "# Join\n",
    "# separador.join(secuencia)\n",
    "print(\"-\".join(lista))"
   ]
  },
  {
   "cell_type": "code",
   "execution_count": null,
   "id": "listed-memorabilia",
   "metadata": {},
   "outputs": [],
   "source": [
    "lista=[5,6,9,12,34,10,34]\n",
    "print(\"Longitud de la lista: \", len(lista))\n",
    "\n",
    "# máximo y mínimo (si es contenedora debe ser del mismo tipo)\n",
    "print(\"Máximo de la lista: \", max(lista))\n",
    "\n",
    "# Búsqueda y ocurrencias\n",
    "print(\"El número 12 está en la pos:\", lista.index(12))\n",
    "print(\"La cantidad de veces que esta 34 en la lista es: \", lista.count(34))\n",
    "# Join\n",
    "# separador.join(secuencia)\n",
    "print(\"-\".join(lista))"
   ]
  },
  {
   "cell_type": "code",
   "execution_count": null,
   "id": "foster-pepper",
   "metadata": {},
   "outputs": [],
   "source": [
    "lista=[5,6,True,12,34,\"10\",34]\n",
    "print(\"Longitud de la lista: \", len(lista))\n",
    "\n",
    "# máximo y mínimo (si es contenedora debe ser del mismo tipo)\n",
    "#print(\"Máximo de la lista: \", max(lista))\n",
    "\n",
    "# Búsqueda y ocurrencias\n",
    "print(\"El número 12 está en la pos:\", lista.index(12))\n",
    "print(\"La cantidad de veces que esta 34 en la lista es: \", lista.count(34))\n",
    "# Join\n",
    "# separador.join(secuencia)\n",
    "print(\"-\".join(lista))"
   ]
  },
  {
   "cell_type": "markdown",
   "id": "baking-lemon",
   "metadata": {},
   "source": [
    "### Slices\n",
    "**secuencia[*x:y:z*]**: devuelve una secuencia del mismo tipo que la original, conteniendo los elementos desde *x* (inc) hasta *y* (no inc) salteando de *z* en *z*"
   ]
  },
  {
   "cell_type": "code",
   "execution_count": null,
   "id": "coral-fleece",
   "metadata": {},
   "outputs": [],
   "source": [
    "# Recordar que es índice 0\n",
    "lista=[1, 5, \"casa\", 3.3, True ]\n",
    "print(\"Lista:\", lista)\n",
    "print(\"Elemento de la lista:\", lista[2])\n",
    "# slice como con las cadenas\n",
    "print(\"Slice del 1 (incluido) al 3 (no incluido): \", lista[1:3])\n",
    "print(\"Hasta el elemento 4 no incluido: \",lista[:4])\n",
    "print(\"Desde el 3 (inc)\", lista[3:])\n",
    "print(\"El 2do elem de la derecha: \", lista[-2])\n",
    "print(\"Desde el 0 hasta el final, de 2 en 2!:\", lista[0::2])"
   ]
  },
  {
   "cell_type": "markdown",
   "id": "white-police",
   "metadata": {},
   "source": [
    "## Listas\n",
    " - Estructura de datos más sencilla\n",
    " - Multitipo (es raro combinar tipos...)\n",
    " - Comportamiento muy similar al de una cadena, pero no es inmutable"
   ]
  },
  {
   "cell_type": "markdown",
   "id": "hydraulic-metallic",
   "metadata": {},
   "source": [
    "### Operaciones con listas"
   ]
  },
  {
   "cell_type": "code",
   "execution_count": null,
   "id": "valid-tender",
   "metadata": {},
   "outputs": [],
   "source": [
    "l1=[1,2,3,4,5]\n",
    "suma=l1+l1\n",
    "print(\"Suma: \", suma)\n",
    "mult=l1*4\n",
    "print(\"Mult:\", mult)\n",
    "l1.append(6) #añadir al final un elemento\n",
    "print(\"Lista extendida:\", l1)\n",
    "print(\"Largo de lista\", len(l1))\n",
    "# Agregar elemento en el medio\n",
    "l1.insert(3, 500)\n",
    "print(\"Le agregamos un elemento en el medio: \", l1)\n",
    "# Modificamos un slice\n",
    "l1[2:4]=[100, 200]\n",
    "print(\"Modif de slice: \", l1)\n",
    "del l1[0] #elimino un elemento por el índice\n",
    "print(\"Lista sin primer elemento: \", l1)\n",
    "l1.remove(100) #elimino un elemento por contenido\n",
    "print(\"Lista sin el 100: \", l1)\n",
    "#es mutable\n",
    "l1[0]=42\n",
    "print(l1)"
   ]
  },
  {
   "cell_type": "code",
   "execution_count": null,
   "id": "growing-reservation",
   "metadata": {},
   "outputs": [],
   "source": [
    "# IMPORTANTE: asignación de un slice es un shallow copy\n",
    "l1=[1,2,3]\n",
    "lista=[\"a\", \"b\", \"c\", l1]\n",
    "lista2=lista[:]\n",
    "lista.append(34)\n",
    "print(\"Lista: \", lista)\n",
    "print(\"Lista2: \", lista2)\n",
    "l1.append(4)\n",
    "print(\"Lista con cambio en componente: \", lista)\n",
    "print(\"Lista2 con cambio en componente: \", lista2)"
   ]
  },
  {
   "cell_type": "code",
   "execution_count": null,
   "id": "billion-outside",
   "metadata": {},
   "outputs": [],
   "source": [
    "# Buscando en las listas\n",
    "comisiones=[5,12,33,1,6,8]\n",
    "print(\"El 5 está?: \", 5 in comisiones)\n",
    "print(\"El 14 está?: \", 14 in comisiones)\n",
    "print(\"El 14 no está?: \", 14 not in comisiones)\n",
    "#Encontrando la posición\n",
    "print(\"El 33 está en la posición: \", comisiones.index(33))"
   ]
  },
  {
   "cell_type": "code",
   "execution_count": null,
   "id": "controlled-adjustment",
   "metadata": {},
   "outputs": [],
   "source": [
    "# Ordenando listas\n",
    "aleatorio=[\"Laura\",\"Franco\",\"Clara\",\"Lucía\",\"Gastón\"]\n",
    "print(\"Lista original: \", aleatorio)\n",
    "# Método para ordenar\n",
    "aleatorio.sort()\n",
    "print(\"Lista ordenada: \", aleatorio)\n",
    "# Ordenamiento inverso\n",
    "aleatorio.sort(reverse=True)\n",
    "print(\"Lista ordenada en forma inversa: \", aleatorio)"
   ]
  },
  {
   "cell_type": "markdown",
   "id": "checked-seventh",
   "metadata": {},
   "source": [
    "## Tuplas\n",
    "\n",
    "Idem listas pero inmutables. Se definen entre ()"
   ]
  },
  {
   "cell_type": "code",
   "execution_count": null,
   "id": "grand-accused",
   "metadata": {},
   "outputs": [],
   "source": [
    "t1=(1,2,3,4,5)\n",
    "suma=t1+t1\n",
    "print(\"Suma: \", suma)\n",
    "mult=t1*4\n",
    "print(\"Mult:\", mult)\n",
    "print(\"Largo de tupla\", len(t1))"
   ]
  },
  {
   "cell_type": "code",
   "execution_count": null,
   "id": "continuous-installation",
   "metadata": {},
   "outputs": [],
   "source": [
    "#Transformación\n",
    "li=[1,2,3]\n",
    "tu=(\"a\", \"b\", \"c\")\n",
    "print(list(tu))\n",
    "print(tuple(li))"
   ]
  },
  {
   "cell_type": "markdown",
   "id": "several-citation",
   "metadata": {},
   "source": [
    "## Conjuntos  \n",
    "  \n",
    "Colección no indexada sin elementos duplicados.  \n",
    "Se crean con { }.  \n",
    "Para crear un conjunto vacío debemos usar set() y no {}"
   ]
  },
  {
   "cell_type": "code",
   "execution_count": null,
   "id": "comic-thinking",
   "metadata": {},
   "outputs": [],
   "source": [
    "conjunto={23,1,5,3,2,2,1,8,9,10,12,5}\n",
    "print(conjunto)\n",
    "otro={\"Argentina\", \"Uruguay\", \"Brasil\", \"Paraguay\", \"Brasil\", \"Paraguay\"}\n",
    "print(otro)\n",
    "desdePalabra=set(\"Caracteres sin repetir de esta frase\")\n",
    "print(desdePalabra)"
   ]
  },
  {
   "cell_type": "code",
   "execution_count": null,
   "id": "sealed-entry",
   "metadata": {},
   "outputs": [],
   "source": [
    "otro={\"Argentina\", \"Uruguay\", \"Brasil\", \"Paraguay\", \"Brasil\", \"Paraguay\"}\n",
    "otro.add(\"Perú\") # añadir elementos\n",
    "print(otro)\n",
    "otro.add(\"Brasil\")\n",
    "print(otro)\n",
    "otro.update({\"Argentina\", \"Colombia\", \"Chile\"}) # añadir otra secuencia\n",
    "otro.update(range(3))\n",
    "print(otro)"
   ]
  },
  {
   "cell_type": "code",
   "execution_count": null,
   "id": "bored-manitoba",
   "metadata": {},
   "outputs": [],
   "source": [
    "# remove y discard se usan para eliminar. La diferencia es que el primero lanza un key error si no está el elemento\n",
    "conjunto=set(range(10))\n",
    "print(conjunto)\n",
    "conjunto.remove(4)\n",
    "print(conjunto)\n",
    "conjunto.discard(4)\n",
    "print(conjunto)\n",
    "conjunto.discard(6)\n",
    "print(conjunto)\n",
    "conjunto.remove(6)"
   ]
  },
  {
   "cell_type": "markdown",
   "id": "fourth-tension",
   "metadata": {},
   "source": [
    "Podemos realizar las operaciones de conjunto clásicas: unión, intersección, diferencia y diferencia simétrica"
   ]
  },
  {
   "cell_type": "code",
   "execution_count": null,
   "id": "demonstrated-devices",
   "metadata": {},
   "outputs": [],
   "source": [
    "s1=set(range(10))\n",
    "s2=set(range(5, 15))\n",
    "print(s1, \" - \", s2)\n",
    "print(\"Unión: \", s1.union(s2)) # También se puede hacer s1 | s2\n",
    "print(\"Intersección: \", s1.intersection(s2)) # También se puede hacer s1 & s2\n",
    "print(\"Diferencia: \", s1-s2) # También se puede hacer s1.difference(s2)\n",
    "print(\"No es conmutativa la diferencia: \", s2-s1)\n",
    "print(\"Diferencia simétrica: \", s1 ^ s2) # También se puede hacer s1.symmetric_difference(s2)"
   ]
  },
  {
   "cell_type": "markdown",
   "id": "coupled-powell",
   "metadata": {},
   "source": [
    "## Diccionarios"
   ]
  },
  {
   "cell_type": "markdown",
   "id": "greek-clearing",
   "metadata": {},
   "source": [
    "Conjunto de pares ***clave:valor***.  \n",
    "Las claves deben ser únicas.\n",
    "{clave: valor, clave: valor...}\n",
    "Las claves deben ser tipos inmutables (básicos o tuplas sin valores mutables internos)"
   ]
  },
  {
   "cell_type": "code",
   "execution_count": null,
   "id": "gross-racing",
   "metadata": {},
   "outputs": [],
   "source": [
    "notas={\"al1\":10, \"al5\":7, \"al3\":5}\n",
    "print(notas)\n",
    "print(notas[\"al5\"]) # Imprimiendo un elemento por su clave\n",
    "notas[\"al4\"]=9 # Agregando un elemento al diccionario\n",
    "print(notas)\n",
    "del notas[\"al1\"] # Eliminando un elemento por su clave\n",
    "print(notas)\n",
    "print(\"-----\")\n",
    "print(list(notas)) # Me pasa a lista las claves\n",
    "print(sorted(notas)) # No solo pasa a lista sino que las ordena\n",
    "print(\"-----\")\n",
    "print(\"al3\" in notas) # Devuelve True si está en el conjunto, False en caso contrario\n",
    "print(\"al1\" in notas)"
   ]
  },
  {
   "cell_type": "markdown",
   "id": "reverse-edward",
   "metadata": {},
   "source": [
    "Para recorrer un diccionario, levantando la clave y el contenido podemos usar el método items()"
   ]
  },
  {
   "cell_type": "code",
   "execution_count": null,
   "id": "designing-concept",
   "metadata": {},
   "outputs": [],
   "source": [
    "notas={\"al1\":10, \"al5\":7, \"al3\":5, \"al2\":9}\n",
    "for al, nota in notas.items():\n",
    "    print(\"El alumno\", al, \"se sacó\", nota)\n"
   ]
  },
  {
   "cell_type": "markdown",
   "id": "dangerous-associate",
   "metadata": {},
   "source": [
    "## Creación de secuencia por comprensión"
   ]
  },
  {
   "cell_type": "markdown",
   "id": "grateful-tanzania",
   "metadata": {},
   "source": [
    "Me permite crear una secuencia a través de la operación de los elementos de otra secuencia.  \n",
    "Aunque parezca raro, es un clásico..."
   ]
  },
  {
   "cell_type": "code",
   "execution_count": null,
   "id": "sufficient-courtesy",
   "metadata": {},
   "outputs": [],
   "source": [
    "nombres=[\"Beto\", \"Carla\", \"Lucía\", \"Fernando\"]\n",
    "iniciales=[nom[0] for nom in nombres]\n",
    "print(iniciales)\n",
    "largos=[len(nom) for nom in nombres]\n",
    "print(largos)"
   ]
  },
  {
   "cell_type": "code",
   "execution_count": null,
   "id": "liquid-retention",
   "metadata": {},
   "outputs": [],
   "source": [
    "#Todas las combinaciones de dos dados\n",
    "paseIngles={(d1, d2) for d1 in range(1,7) for d2 in range(1,7)}\n",
    "print(paseIngles)"
   ]
  },
  {
   "cell_type": "code",
   "execution_count": null,
   "id": "female-procedure",
   "metadata": {},
   "outputs": [],
   "source": [
    "# Todas las fichas del dominó\n",
    "domino={(n1, n2) for n1 in range(0,7) for n2 in range(0,7) if n1<=n2}\n",
    "print(domino)"
   ]
  },
  {
   "cell_type": "code",
   "execution_count": null,
   "id": "fourth-backing",
   "metadata": {},
   "outputs": [],
   "source": [
    "print(len(domino))"
   ]
  },
  {
   "cell_type": "code",
   "execution_count": null,
   "id": "confused-conditions",
   "metadata": {},
   "outputs": [],
   "source": []
  }
 ],
 "metadata": {
  "kernelspec": {
   "display_name": "Python 3",
   "language": "python",
   "name": "python3"
  },
  "language_info": {
   "codemirror_mode": {
    "name": "ipython",
    "version": 3
   },
   "file_extension": ".py",
   "mimetype": "text/x-python",
   "name": "python",
   "nbconvert_exporter": "python",
   "pygments_lexer": "ipython3",
   "version": "3.7.7"
  }
 },
 "nbformat": 4,
 "nbformat_minor": 5
}
