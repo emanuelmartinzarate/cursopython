{
 "cells": [
  {
   "cell_type": "markdown",
   "id": "motivated-accent",
   "metadata": {},
   "source": [
    "# For (o de cómo recorrer secuencias)\n",
    "Tiene una concepción distinta a los lenguajes tradicionales.  \n",
    "Recorre elementos de una secuencia en el orden de aparición.  \n",
    "**La definición del alcance de la estructura se hace mediante indentación** (PEP8 = 4 espacios)  \n",
    "  \n",
    "for *contenedor* in *secuencia*:  \n",
    "&emsp; *código*"
   ]
  },
  {
   "cell_type": "code",
   "execution_count": null,
   "id": "exempt-dylan",
   "metadata": {},
   "outputs": [],
   "source": [
    "lista=[\"a\", \"casa\", 34]\n",
    "for elemento in lista:\n",
    "    print(elemento)"
   ]
  },
  {
   "cell_type": "code",
   "execution_count": null,
   "id": "north-error",
   "metadata": {},
   "outputs": [],
   "source": [
    "cadena=\"Este es otro ejemplo de secuencia\"\n",
    "for carac in cadena:\n",
    "    print(carac)"
   ]
  },
  {
   "cell_type": "markdown",
   "id": "interior-significance",
   "metadata": {},
   "source": [
    "Con **break** podemos salir de un for"
   ]
  },
  {
   "cell_type": "code",
   "execution_count": null,
   "id": "documented-shareware",
   "metadata": {},
   "outputs": [],
   "source": [
    "# Suma los números hasta llegar a la primera aparición de un nro límite (incluido)\n",
    "lista=[5,7,12,3,6,4,9]\n",
    "limite=7\n",
    "sum=0\n",
    "for ele in lista:\n",
    "    sum+=ele\n",
    "    if ele==limite:\n",
    "        break\n",
    "print(sum)"
   ]
  },
  {
   "cell_type": "markdown",
   "id": "negative-haven",
   "metadata": {},
   "source": [
    "Con **continue** vuelvo al loop salteando lo que sigue"
   ]
  },
  {
   "cell_type": "code",
   "execution_count": null,
   "id": "competent-shield",
   "metadata": {},
   "outputs": [],
   "source": [
    "# Imprime los nros mayores a 5\n",
    "lista=[5,7,12,3,6,4,9]\n",
    "for ele in lista:\n",
    "    if ele<=5:\n",
    "        continue\n",
    "    print(ele)\n"
   ]
  },
  {
   "cell_type": "markdown",
   "id": "hairy-oxygen",
   "metadata": {},
   "source": [
    "Si queremos hacer el uso clásico de *for* tenemos el método range que nos crea una secuencia numérica, como ya vimos.\n",
    "**range([*start*,] *end*, [*step*])**"
   ]
  },
  {
   "cell_type": "code",
   "execution_count": null,
   "id": "wound-patent",
   "metadata": {},
   "outputs": [],
   "source": [
    "# Agregamos el * para que lo muestre como una lista\n",
    "print(*range(5)) # no incluye el end, empieza en 0 si no indico start\n",
    "print(*range(3,10))\n",
    "print(*range(4, 12, 3))"
   ]
  },
  {
   "cell_type": "code",
   "execution_count": null,
   "id": "wrong-witch",
   "metadata": {},
   "outputs": [],
   "source": [
    "for i in range(3, 10, 2):\n",
    "    print(i)"
   ]
  },
  {
   "cell_type": "markdown",
   "id": "aerial-pixel",
   "metadata": {},
   "source": [
    "# While (nada nuevo bajo el frente)\n",
    "**while *expresión booleana*:**  \n",
    "&emsp; ** *bloque de código* **  \n",
    "  \n",
    "Break y continue se usan de la misma manera."
   ]
  },
  {
   "cell_type": "code",
   "execution_count": 29,
   "id": "after-proposal",
   "metadata": {},
   "outputs": [
    {
     "name": "stdout",
     "output_type": "stream",
     "text": [
      "[441, 328, 78, 361, 500, 923, 397, 650, 708, 706, 73, 415, 906, 759, 845, 530, 93, 208, 734, 597, 389, 364, 610, 471, 440, 521, 873, 886, 701, 262]\n",
      "5\n"
     ]
    }
   ],
   "source": [
    "import random\n",
    "lista=list(range(0,1000))\n",
    "random.shuffle(lista)\n",
    "print(lista[:30])\n",
    "pos=0\n",
    "while(lista[pos]<800):\n",
    "    pos+=1\n",
    "print(pos)"
   ]
  },
  {
   "cell_type": "markdown",
   "id": "formal-announcement",
   "metadata": {},
   "source": [
    "# If\n",
    "**if *expresión booleana*:**  \n",
    "&emsp;** *bloque de código* **  \n",
    "**elif *expresión booleana*:**  \n",
    "&emsp;** *bloque de código* **  \n",
    "**elif *expresión booleana*:**  \n",
    "&emsp;** *bloque de código* **  \n",
    "**else *expresión booleana*:**  \n",
    "&emsp;** *bloque de código* **  \n"
   ]
  },
  {
   "cell_type": "code",
   "execution_count": null,
   "id": "corrected-limitation",
   "metadata": {},
   "outputs": [],
   "source": [
    "num=int(input(\"Ingrese un número del 1 al 10\"))\n",
    "if num>10:\n",
    "    print(\"Pero che...\")\n",
    "elif num%2==0 and num!=2:\n",
    "    print(\"El nro es par\")\n",
    "elif num%3==0 and num!=3:\n",
    "    print(\"El nro es múltiplo de 3\")\n",
    "elif num%5==0 and num!=5:\n",
    "    print(\"El nro es múltiplo de 5\")\n",
    "else:\n",
    "    print(\"El nro es primo\")"
   ]
  },
  {
   "cell_type": "markdown",
   "id": "under-basket",
   "metadata": {},
   "source": [
    "*if corto*  \n",
    "**if *expresión booleana*: *sentencia* **  \n",
    "  \n",
    "*if else corto*  \n",
    "** *sentencia* if *exp booleana* else *sentencia*  "
   ]
  },
  {
   "cell_type": "code",
   "execution_count": null,
   "id": "upset-trail",
   "metadata": {},
   "outputs": [],
   "source": [
    "edad=13\n",
    "if edad>=18: print(\"Puede ingresar\")\n",
    "print(\"Puede ingresar\") if edad>=18 else print(\"No permitido!\")"
   ]
  },
  {
   "cell_type": "code",
   "execution_count": null,
   "id": "lyric-price",
   "metadata": {},
   "outputs": [],
   "source": [
    "# Si querés dejar un bloque de código sin sentencias aún, podés usar pass\n",
    "if 5>3:\n",
    "    pass\n",
    "# Sí o sí tenés que ponerlo, no lo podés dejar vacío. lo completás luego... Esto sirve para todas las estructuras"
   ]
  },
  {
   "cell_type": "code",
   "execution_count": null,
   "id": "secret-bangkok",
   "metadata": {},
   "outputs": [],
   "source": []
  }
 ],
 "metadata": {
  "kernelspec": {
   "display_name": "Python 3",
   "language": "python",
   "name": "python3"
  },
  "language_info": {
   "codemirror_mode": {
    "name": "ipython",
    "version": 3
   },
   "file_extension": ".py",
   "mimetype": "text/x-python",
   "name": "python",
   "nbconvert_exporter": "python",
   "pygments_lexer": "ipython3",
   "version": "3.7.7"
  }
 },
 "nbformat": 4,
 "nbformat_minor": 5
}
