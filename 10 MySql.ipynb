{
 "metadata": {
  "language_info": {
   "codemirror_mode": {
    "name": "ipython",
    "version": 3
   },
   "file_extension": ".py",
   "mimetype": "text/x-python",
   "name": "python",
   "nbconvert_exporter": "python",
   "pygments_lexer": "ipython3",
   "version": "3.7.7-final"
  },
  "orig_nbformat": 2,
  "kernelspec": {
   "name": "python3",
   "display_name": "Python 3.7.7 64-bit",
   "metadata": {
    "interpreter": {
     "hash": "04635d289a519a1410467dd0afb0db42f9184808881ca68b2eb5a687a20a5a94"
    }
   }
  }
 },
 "nbformat": 4,
 "nbformat_minor": 2,
 "cells": [
  {
   "source": [
    "# Conector MySql\n",
    "\n",
    "Este es uno de los tantos conectores de MySql que están dando vueltas. Está bueno que vean otros (hay una tarea sobre esto)  \n",
    "\n",
    "Para instalar los módulos necesarios para usar este conector, debemos hacer:\n",
    "\n",
    "> pip install mysql-connector-python  \n",
    "\n",
    "Y ahora, varios ejemplos sin teoría porque seguramente conocen el paño!\n"
   ],
   "cell_type": "markdown",
   "metadata": {}
  },
  {
   "cell_type": "code",
   "execution_count": null,
   "metadata": {},
   "outputs": [],
   "source": [
    "#Conexión\n",
    "import mysql.connector\n",
    "\n",
    "base = mysql.connector.connect(user='root', password='cursopython',host='localhost')\n",
    "print(base)\n",
    "base.close()"
   ]
  },
  {
   "cell_type": "code",
   "execution_count": null,
   "metadata": {},
   "outputs": [],
   "source": [
    "#Manejo de excepciones\n",
    "import mysql.connector\n",
    "from mysql.connector import errorcode\n",
    "\n",
    "try:\n",
    "    base = mysql.connector.connect(user='root', password='cursopython',host='localhost',database='personal')\n",
    "    cursor=base.cursor()\n",
    "except mysql.connector.Error as err:\n",
    "    # el error tiene un número. Puedo usarlo, pero es más clarito usar la tabla de errorcode\n",
    "    if err.errno==errorcode.ER_ACCESS_DENIED_ERROR:\n",
    "        print(\"Problemas de acceso por user o pass\")\n",
    "    elif err.errno==errorcode.ER_BAD_DB_ERROR:\n",
    "        print(\"No existe la base\")\n",
    "    elif err.errno== 2003: #Podemos comparar con el número. Mejor hubiera sido errorcode.\n",
    "        print(\"No se pudo conectar al servidor\")\n",
    "    else:\n",
    "        print(err)\n",
    "    \n",
    "else:\n",
    "    print(base)\n",
    "    base.close()\n"
   ]
  },
  {
   "cell_type": "code",
   "execution_count": null,
   "metadata": {},
   "outputs": [],
   "source": [
    "#Recorrido de las bases de datos\n",
    "import mysql.connector\n",
    "\n",
    "base = mysql.connector.connect(user='root', password='cursopython',host='localhost')\n",
    "cursor=base.cursor()\n",
    "cursor.execute(\"SHOW DATABASES\")\n",
    "for elem in cursor:\n",
    "    print(elem)\n",
    "base.close()"
   ]
  },
  {
   "cell_type": "code",
   "execution_count": null,
   "metadata": {},
   "outputs": [],
   "source": [
    "#Recorrido de las tablas de una base\n",
    "import mysql.connector\n",
    "\n",
    "#Aquí indiqué a qué base en particular me estoy conectando\n",
    "base = mysql.connector.connect(user='root', password='cursopython',host='localhost',database='personal')\n",
    "cursor=base.cursor()\n",
    "cursor.execute(\"SHOW TABLES\")\n",
    "for elem in cursor:\n",
    "    print(elem)\n",
    "base.close()"
   ]
  },
  {
   "cell_type": "code",
   "execution_count": null,
   "metadata": {},
   "outputs": [],
   "source": [
    "#Creación de una tabla (en realidad, lanzamiento de cualquier consulta SQL)\n",
    "import mysql.connector\n",
    "\n",
    "base = mysql.connector.connect(user='root', password='cursopython',host='localhost',database='personal')\n",
    "cursor=base.cursor()\n",
    "cursor.execute(\"CREATE TABLE notas (idAlu INT(11), idMat INT(11), fecha DATE, nota INT(2))\")\n",
    "base.close()\n"
   ]
  },
  {
   "cell_type": "code",
   "execution_count": null,
   "metadata": {},
   "outputs": [],
   "source": [
    "#Inserción de registros mediante tupla\n",
    "import mysql.connector\n",
    "from datetime import date\n",
    "\n",
    "base = mysql.connector.connect(user='root', password='cursopython',host='localhost',database='personal')\n",
    "cursor=base.cursor()\n",
    "insv1=\"INSERT INTO alumnos (Apellido, Nombres, fechanac) VALUES (%s, %s, %s)\"\n",
    "data=(\"Martinez\", \"Jorge\", date(1990, 9, 22))\n",
    "cursor.execute(insv1, data)\n",
    "base.close()"
   ]
  },
  {
   "cell_type": "code",
   "execution_count": null,
   "metadata": {},
   "outputs": [],
   "source": [
    "# Recorrer resultado de un select\n",
    "import mysql.connector\n",
    "\n",
    "base = mysql.connector.connect(user='root', password='cursopython',host='localhost',database='personal')\n",
    "cursor=base.cursor()\n",
    "cursor.execute(\"Select * from alumnos\")\n",
    "for elem in cursor:\n",
    "    print(elem)\n",
    "base.close()"
   ]
  },
  {
   "cell_type": "code",
   "execution_count": null,
   "metadata": {},
   "outputs": [],
   "source": [
    "#Inserción de registros mediante diccionario\n",
    "import mysql.connector\n",
    "from datetime import date\n",
    "\n",
    "base = mysql.connector.connect(user='root', password='cursopython',host='localhost',database='personal')\n",
    "cursor=base.cursor()\n",
    "insv1=\"INSERT INTO alumnos (Apellido, Nombres, fechanac) VALUES (%(Apellido)s, %(Nombres)s, %(fechanac)s)\"\n",
    "data={\"Apellido\": \"Gutierrez\", \"Nombres\":\"Juan Carlos\", \"fechanac\":date(1960, 11, 2)}\n",
    "cursor.execute(insv1, data)\n",
    "print(cursor.lastrowid)\n",
    "base.close()"
   ]
  },
  {
   "cell_type": "code",
   "execution_count": null,
   "metadata": {},
   "outputs": [],
   "source": [
    "# Recorrer resultado de un select, levantando en el for directamente los campos\n",
    "import mysql.connector\n",
    "\n",
    "base = mysql.connector.connect(user='root', password='cursopython',host='localhost',database='personal')\n",
    "cursor=base.cursor()\n",
    "cursor.execute(\"Select * from alumnos\")\n",
    "for id, apellido, nombres, nacim in cursor:\n",
    "    print(\"{} {} es el alumno nro {} y nació el {}\".format(nombres, apellido, id, nacim))\n",
    "\n",
    "base.close()"
   ]
  },
  {
   "cell_type": "code",
   "execution_count": null,
   "metadata": {},
   "outputs": [],
   "source": [
    "# Parametrizar la condición\n",
    "import mysql.connector\n",
    "\n",
    "base = mysql.connector.connect(user='root', password='cursopython',host='localhost',database='personal')\n",
    "cursor=base.cursor()\n",
    "consulta=\"Select * from alumnos where fechanac between %s and %s\"\n",
    "inicio=date(1958, 1, 1)\n",
    "fin=date(1962, 12, 31)\n",
    "cursor.execute(consulta, (inicio, fin))\n",
    "for id, apellido, nombres, nacim in cursor:\n",
    "    print(\"{} {} es el alumno nro {} y nació el {}\".format(nombres, apellido, id, nacim))\n",
    "\n",
    "base.close()"
   ]
  },
  {
   "source": [
    "Hacemos una base en db4free para probar cada uno desde sus casas.\n"
   ],
   "cell_type": "markdown",
   "metadata": {}
  }
 ]
}